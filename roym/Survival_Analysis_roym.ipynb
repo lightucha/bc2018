{
 "cells": [
  {
   "cell_type": "markdown",
   "metadata": {},
   "source": [
    "# BigContest Survival Analysis"
   ]
  },
  {
   "cell_type": "markdown",
   "metadata": {},
   "source": [
    "# 1. Setting Environment"
   ]
  },
  {
   "cell_type": "markdown",
   "metadata": {},
   "source": [
    "## 1.1 Load libraires"
   ]
  },
  {
   "cell_type": "code",
   "execution_count": 4,
   "metadata": {},
   "outputs": [],
   "source": [
    "library(data.table)\n",
    "library(dplyr)\n",
    "library(tidyr)\n",
    "library(survival)\n",
    "library(ggplot2)\n",
    "library(survminer)"
   ]
  },
  {
   "cell_type": "markdown",
   "metadata": {},
   "source": [
    "## 1.2 Load data"
   ]
  },
  {
   "cell_type": "code",
   "execution_count": 6,
   "metadata": {},
   "outputs": [
    {
     "name": "stdout",
     "output_type": "stream",
     "text": [
      "\r",
      "Read 2.3% of 440323 rows\r",
      "Read 11.4% of 440323 rows\r",
      "Read 20.4% of 440323 rows\r",
      "Read 29.5% of 440323 rows\r",
      "Read 38.6% of 440323 rows\r",
      "Read 47.7% of 440323 rows\r",
      "Read 56.8% of 440323 rows\r",
      "Read 65.9% of 440323 rows\r",
      "Read 74.9% of 440323 rows\r",
      "Read 84.0% of 440323 rows\r",
      "Read 93.1% of 440323 rows\r",
      "Read 440323 rows and 39 (of 39) columns from 0.305 GB file in 00:00:14\n"
     ]
    }
   ],
   "source": [
    "activity <- fread(\"data/train_activity_new.csv\", stringsAsFactors = F)\n",
    "label    <- fread(\"data/train_label.csv\", stringsAsFactors = F) %>%\n",
    "  mutate(label = factor(label, levels = c(\"retained\", \"2month\", \"month\", \"week\")))"
   ]
  },
  {
   "cell_type": "markdown",
   "metadata": {},
   "source": [
    "# 2. Preprocessing"
   ]
  },
  {
   "cell_type": "code",
   "execution_count": 7,
   "metadata": {},
   "outputs": [
    {
     "data": {
      "text/html": [
       "<table>\n",
       "<thead><tr><th scope=col>acc_id</th><th scope=col>wk1</th><th scope=col>wk2</th><th scope=col>wk3</th><th scope=col>wk4</th><th scope=col>wk5</th><th scope=col>wk6</th><th scope=col>wk7</th><th scope=col>wk8</th><th scope=col>label</th></tr></thead>\n",
       "<tbody>\n",
       "\t<tr><td>0000264b01392acfde44f9d8494f112a701dc5d3e5fda6ad090cb205727637e0</td><td>0                                                               </td><td>0                                                               </td><td>0                                                               </td><td>0                                                               </td><td>0                                                               </td><td>0                                                               </td><td>5                                                               </td><td>7                                                               </td><td>week                                                            </td></tr>\n",
       "\t<tr><td>0001f130e89288ff0df167b998f6eb7085687f411fcb72440d8a55fb2c0eabc8</td><td>3                                                               </td><td>3                                                               </td><td>2                                                               </td><td>4                                                               </td><td>3                                                               </td><td>4                                                               </td><td>3                                                               </td><td>3                                                               </td><td>retained                                                        </td></tr>\n",
       "\t<tr><td>00028f0ad71c07f48aef465fd0c98ba6e3f0f3de3d2f7d14c975f794dfb31e2b</td><td>0                                                               </td><td>0                                                               </td><td>2                                                               </td><td>2                                                               </td><td>2                                                               </td><td>0                                                               </td><td>1                                                               </td><td>5                                                               </td><td>retained                                                        </td></tr>\n",
       "\t<tr><td>00036e5b6a197c196fa10fc0ad4e2853b22294dff64d2735a2795ab3858d5b7a</td><td>3                                                               </td><td>0                                                               </td><td>6                                                               </td><td>7                                                               </td><td>0                                                               </td><td>2                                                               </td><td>7                                                               </td><td>6                                                               </td><td>month                                                           </td></tr>\n",
       "\t<tr><td>00037fe8e712041a476b8b1b827583cbc34895844057f03da985c953f567e0f2</td><td>0                                                               </td><td>1                                                               </td><td>0                                                               </td><td>0                                                               </td><td>0                                                               </td><td>0                                                               </td><td>0                                                               </td><td>2                                                               </td><td>2month                                                          </td></tr>\n",
       "\t<tr><td>0003b127aa1c0c34490db8817574482464aad9f99cffde4d3e51790dff2cb6ca</td><td>7                                                               </td><td>7                                                               </td><td>6                                                               </td><td>3                                                               </td><td>2                                                               </td><td>4                                                               </td><td>6                                                               </td><td>4                                                               </td><td>month                                                           </td></tr>\n",
       "</tbody>\n",
       "</table>\n"
      ],
      "text/latex": [
       "\\begin{tabular}{r|llllllllll}\n",
       " acc\\_id & wk1 & wk2 & wk3 & wk4 & wk5 & wk6 & wk7 & wk8 & label\\\\\n",
       "\\hline\n",
       "\t 0000264b01392acfde44f9d8494f112a701dc5d3e5fda6ad090cb205727637e0 & 0                                                                & 0                                                                & 0                                                                & 0                                                                & 0                                                                & 0                                                                & 5                                                                & 7                                                                & week                                                            \\\\\n",
       "\t 0001f130e89288ff0df167b998f6eb7085687f411fcb72440d8a55fb2c0eabc8 & 3                                                                & 3                                                                & 2                                                                & 4                                                                & 3                                                                & 4                                                                & 3                                                                & 3                                                                & retained                                                        \\\\\n",
       "\t 00028f0ad71c07f48aef465fd0c98ba6e3f0f3de3d2f7d14c975f794dfb31e2b & 0                                                                & 0                                                                & 2                                                                & 2                                                                & 2                                                                & 0                                                                & 1                                                                & 5                                                                & retained                                                        \\\\\n",
       "\t 00036e5b6a197c196fa10fc0ad4e2853b22294dff64d2735a2795ab3858d5b7a & 3                                                                & 0                                                                & 6                                                                & 7                                                                & 0                                                                & 2                                                                & 7                                                                & 6                                                                & month                                                           \\\\\n",
       "\t 00037fe8e712041a476b8b1b827583cbc34895844057f03da985c953f567e0f2 & 0                                                                & 1                                                                & 0                                                                & 0                                                                & 0                                                                & 0                                                                & 0                                                                & 2                                                                & 2month                                                          \\\\\n",
       "\t 0003b127aa1c0c34490db8817574482464aad9f99cffde4d3e51790dff2cb6ca & 7                                                                & 7                                                                & 6                                                                & 3                                                                & 2                                                                & 4                                                                & 6                                                                & 4                                                                & month                                                           \\\\\n",
       "\\end{tabular}\n"
      ],
      "text/markdown": [
       "\n",
       "acc_id | wk1 | wk2 | wk3 | wk4 | wk5 | wk6 | wk7 | wk8 | label | \n",
       "|---|---|---|---|---|---|\n",
       "| 0000264b01392acfde44f9d8494f112a701dc5d3e5fda6ad090cb205727637e0 | 0                                                                | 0                                                                | 0                                                                | 0                                                                | 0                                                                | 0                                                                | 5                                                                | 7                                                                | week                                                             | \n",
       "| 0001f130e89288ff0df167b998f6eb7085687f411fcb72440d8a55fb2c0eabc8 | 3                                                                | 3                                                                | 2                                                                | 4                                                                | 3                                                                | 4                                                                | 3                                                                | 3                                                                | retained                                                         | \n",
       "| 00028f0ad71c07f48aef465fd0c98ba6e3f0f3de3d2f7d14c975f794dfb31e2b | 0                                                                | 0                                                                | 2                                                                | 2                                                                | 2                                                                | 0                                                                | 1                                                                | 5                                                                | retained                                                         | \n",
       "| 00036e5b6a197c196fa10fc0ad4e2853b22294dff64d2735a2795ab3858d5b7a | 3                                                                | 0                                                                | 6                                                                | 7                                                                | 0                                                                | 2                                                                | 7                                                                | 6                                                                | month                                                            | \n",
       "| 00037fe8e712041a476b8b1b827583cbc34895844057f03da985c953f567e0f2 | 0                                                                | 1                                                                | 0                                                                | 0                                                                | 0                                                                | 0                                                                | 0                                                                | 2                                                                | 2month                                                           | \n",
       "| 0003b127aa1c0c34490db8817574482464aad9f99cffde4d3e51790dff2cb6ca | 7                                                                | 7                                                                | 6                                                                | 3                                                                | 2                                                                | 4                                                                | 6                                                                | 4                                                                | month                                                            | \n",
       "\n",
       "\n"
      ],
      "text/plain": [
       "  acc_id                                                           wk1 wk2 wk3\n",
       "1 0000264b01392acfde44f9d8494f112a701dc5d3e5fda6ad090cb205727637e0 0   0   0  \n",
       "2 0001f130e89288ff0df167b998f6eb7085687f411fcb72440d8a55fb2c0eabc8 3   3   2  \n",
       "3 00028f0ad71c07f48aef465fd0c98ba6e3f0f3de3d2f7d14c975f794dfb31e2b 0   0   2  \n",
       "4 00036e5b6a197c196fa10fc0ad4e2853b22294dff64d2735a2795ab3858d5b7a 3   0   6  \n",
       "5 00037fe8e712041a476b8b1b827583cbc34895844057f03da985c953f567e0f2 0   1   0  \n",
       "6 0003b127aa1c0c34490db8817574482464aad9f99cffde4d3e51790dff2cb6ca 7   7   6  \n",
       "  wk4 wk5 wk6 wk7 wk8 label   \n",
       "1 0   0   0   5   7   week    \n",
       "2 4   3   4   3   3   retained\n",
       "3 2   2   0   1   5   retained\n",
       "4 7   0   2   7   6   month   \n",
       "5 0   0   0   0   2   2month  \n",
       "6 3   2   4   6   4   month   "
      ]
     },
     "metadata": {},
     "output_type": "display_data"
    }
   ],
   "source": [
    "temp <- activity %>% select(acc_id, wk, cnt_dt) %>%\n",
    "  spread(key = \"wk\", value = \"cnt_dt\") %>% left_join(label, by = \"acc_id\")\n",
    "temp[is.na(temp)] <- 0\n",
    "names(temp)[2:9] <- paste0(\"wk\", 1:8)\n",
    "head(temp)"
   ]
  },
  {
   "cell_type": "code",
   "execution_count": 8,
   "metadata": {},
   "outputs": [
    {
     "data": {
      "text/html": [
       "<table>\n",
       "<thead><tr><th scope=col>wk1</th><th scope=col>wk2</th><th scope=col>wk3</th><th scope=col>wk4</th><th scope=col>wk5</th><th scope=col>wk6</th><th scope=col>wk7</th><th scope=col>wk8</th></tr></thead>\n",
       "<tbody>\n",
       "\t<tr><td>0</td><td>0</td><td>0</td><td>0</td><td>0</td><td>0</td><td>1</td><td>1</td></tr>\n",
       "\t<tr><td>1</td><td>1</td><td>1</td><td>1</td><td>1</td><td>1</td><td>1</td><td>1</td></tr>\n",
       "\t<tr><td>0</td><td>0</td><td>1</td><td>1</td><td>1</td><td>0</td><td>1</td><td>1</td></tr>\n",
       "\t<tr><td>1</td><td>0</td><td>1</td><td>1</td><td>0</td><td>1</td><td>1</td><td>1</td></tr>\n",
       "\t<tr><td>0</td><td>1</td><td>0</td><td>0</td><td>0</td><td>0</td><td>0</td><td>1</td></tr>\n",
       "\t<tr><td>1</td><td>1</td><td>1</td><td>1</td><td>1</td><td>1</td><td>1</td><td>1</td></tr>\n",
       "</tbody>\n",
       "</table>\n"
      ],
      "text/latex": [
       "\\begin{tabular}{r|llllllll}\n",
       " wk1 & wk2 & wk3 & wk4 & wk5 & wk6 & wk7 & wk8\\\\\n",
       "\\hline\n",
       "\t 0 & 0 & 0 & 0 & 0 & 0 & 1 & 1\\\\\n",
       "\t 1 & 1 & 1 & 1 & 1 & 1 & 1 & 1\\\\\n",
       "\t 0 & 0 & 1 & 1 & 1 & 0 & 1 & 1\\\\\n",
       "\t 1 & 0 & 1 & 1 & 0 & 1 & 1 & 1\\\\\n",
       "\t 0 & 1 & 0 & 0 & 0 & 0 & 0 & 1\\\\\n",
       "\t 1 & 1 & 1 & 1 & 1 & 1 & 1 & 1\\\\\n",
       "\\end{tabular}\n"
      ],
      "text/markdown": [
       "\n",
       "wk1 | wk2 | wk3 | wk4 | wk5 | wk6 | wk7 | wk8 | \n",
       "|---|---|---|---|---|---|\n",
       "| 0 | 0 | 0 | 0 | 0 | 0 | 1 | 1 | \n",
       "| 1 | 1 | 1 | 1 | 1 | 1 | 1 | 1 | \n",
       "| 0 | 0 | 1 | 1 | 1 | 0 | 1 | 1 | \n",
       "| 1 | 0 | 1 | 1 | 0 | 1 | 1 | 1 | \n",
       "| 0 | 1 | 0 | 0 | 0 | 0 | 0 | 1 | \n",
       "| 1 | 1 | 1 | 1 | 1 | 1 | 1 | 1 | \n",
       "\n",
       "\n"
      ],
      "text/plain": [
       "  wk1 wk2 wk3 wk4 wk5 wk6 wk7 wk8\n",
       "1 0   0   0   0   0   0   1   1  \n",
       "2 1   1   1   1   1   1   1   1  \n",
       "3 0   0   1   1   1   0   1   1  \n",
       "4 1   0   1   1   0   1   1   1  \n",
       "5 0   1   0   0   0   0   0   1  \n",
       "6 1   1   1   1   1   1   1   1  "
      ]
     },
     "metadata": {},
     "output_type": "display_data"
    }
   ],
   "source": [
    "temp2 <- apply(temp[,2:9], 2, function(x) {ifelse(x > 0, 1, x)}) %>% data.frame()\n",
    "head(temp2)"
   ]
  },
  {
   "cell_type": "code",
   "execution_count": 9,
   "metadata": {},
   "outputs": [
    {
     "data": {
      "text/html": [
       "<table>\n",
       "<thead><tr><th scope=col>acc_id</th><th scope=col>time</th><th scope=col>churn</th><th scope=col>label</th></tr></thead>\n",
       "<tbody>\n",
       "\t<tr><td>0000264b01392acfde44f9d8494f112a701dc5d3e5fda6ad090cb205727637e0</td><td> 2                                                              </td><td>1                                                               </td><td>week                                                            </td></tr>\n",
       "\t<tr><td>0001f130e89288ff0df167b998f6eb7085687f411fcb72440d8a55fb2c0eabc8</td><td>11                                                              </td><td>0                                                               </td><td>retained                                                        </td></tr>\n",
       "\t<tr><td>00028f0ad71c07f48aef465fd0c98ba6e3f0f3de3d2f7d14c975f794dfb31e2b</td><td> 8                                                              </td><td>0                                                               </td><td>retained                                                        </td></tr>\n",
       "\t<tr><td>00036e5b6a197c196fa10fc0ad4e2853b22294dff64d2735a2795ab3858d5b7a</td><td> 7                                                              </td><td>1                                                               </td><td>month                                                           </td></tr>\n",
       "\t<tr><td>00037fe8e712041a476b8b1b827583cbc34895844057f03da985c953f567e0f2</td><td> 4                                                              </td><td>1                                                               </td><td>2month                                                          </td></tr>\n",
       "\t<tr><td>0003b127aa1c0c34490db8817574482464aad9f99cffde4d3e51790dff2cb6ca</td><td> 9                                                              </td><td>1                                                               </td><td>month                                                           </td></tr>\n",
       "</tbody>\n",
       "</table>\n"
      ],
      "text/latex": [
       "\\begin{tabular}{r|llll}\n",
       " acc\\_id & time & churn & label\\\\\n",
       "\\hline\n",
       "\t 0000264b01392acfde44f9d8494f112a701dc5d3e5fda6ad090cb205727637e0 &  2                                                               & 1                                                                & week                                                            \\\\\n",
       "\t 0001f130e89288ff0df167b998f6eb7085687f411fcb72440d8a55fb2c0eabc8 & 11                                                               & 0                                                                & retained                                                        \\\\\n",
       "\t 00028f0ad71c07f48aef465fd0c98ba6e3f0f3de3d2f7d14c975f794dfb31e2b &  8                                                               & 0                                                                & retained                                                        \\\\\n",
       "\t 00036e5b6a197c196fa10fc0ad4e2853b22294dff64d2735a2795ab3858d5b7a &  7                                                               & 1                                                                & month                                                           \\\\\n",
       "\t 00037fe8e712041a476b8b1b827583cbc34895844057f03da985c953f567e0f2 &  4                                                               & 1                                                                & 2month                                                          \\\\\n",
       "\t 0003b127aa1c0c34490db8817574482464aad9f99cffde4d3e51790dff2cb6ca &  9                                                               & 1                                                                & month                                                           \\\\\n",
       "\\end{tabular}\n"
      ],
      "text/markdown": [
       "\n",
       "acc_id | time | churn | label | \n",
       "|---|---|---|---|---|---|\n",
       "| 0000264b01392acfde44f9d8494f112a701dc5d3e5fda6ad090cb205727637e0 |  2                                                               | 1                                                                | week                                                             | \n",
       "| 0001f130e89288ff0df167b998f6eb7085687f411fcb72440d8a55fb2c0eabc8 | 11                                                               | 0                                                                | retained                                                         | \n",
       "| 00028f0ad71c07f48aef465fd0c98ba6e3f0f3de3d2f7d14c975f794dfb31e2b |  8                                                               | 0                                                                | retained                                                         | \n",
       "| 00036e5b6a197c196fa10fc0ad4e2853b22294dff64d2735a2795ab3858d5b7a |  7                                                               | 1                                                                | month                                                            | \n",
       "| 00037fe8e712041a476b8b1b827583cbc34895844057f03da985c953f567e0f2 |  4                                                               | 1                                                                | 2month                                                           | \n",
       "| 0003b127aa1c0c34490db8817574482464aad9f99cffde4d3e51790dff2cb6ca |  9                                                               | 1                                                                | month                                                            | \n",
       "\n",
       "\n"
      ],
      "text/plain": [
       "  acc_id                                                           time churn\n",
       "1 0000264b01392acfde44f9d8494f112a701dc5d3e5fda6ad090cb205727637e0  2   1    \n",
       "2 0001f130e89288ff0df167b998f6eb7085687f411fcb72440d8a55fb2c0eabc8 11   0    \n",
       "3 00028f0ad71c07f48aef465fd0c98ba6e3f0f3de3d2f7d14c975f794dfb31e2b  8   0    \n",
       "4 00036e5b6a197c196fa10fc0ad4e2853b22294dff64d2735a2795ab3858d5b7a  7   1    \n",
       "5 00037fe8e712041a476b8b1b827583cbc34895844057f03da985c953f567e0f2  4   1    \n",
       "6 0003b127aa1c0c34490db8817574482464aad9f99cffde4d3e51790dff2cb6ca  9   1    \n",
       "  label   \n",
       "1 week    \n",
       "2 retained\n",
       "3 retained\n",
       "4 month   \n",
       "5 2month  \n",
       "6 month   "
      ]
     },
     "metadata": {},
     "output_type": "display_data"
    }
   ],
   "source": [
    "survival <- temp %>% select(acc_id, label) %>% cbind(temp2) %>%\n",
    "  mutate(wk9  = ifelse(label == \"week\", 0, 1),\n",
    "         wk10 = ifelse(label %in% c(\"week\", \"month\"), 0, 1),\n",
    "         wk11 = ifelse(label == \"retained\", 1, 0))\n",
    "\n",
    "survival$time <- survival %>% select(-acc_id, -label) %>% rowSums()\n",
    "survival$churn <- ifelse(survival$label == \"retained\", 0, 1)\n",
    "survival_df <- survival %>% select(acc_id, time, churn, label)\n",
    "head(survival_df)"
   ]
  },
  {
   "cell_type": "code",
   "execution_count": 13,
   "metadata": {},
   "outputs": [
    {
     "data": {
      "text/html": [
       "<dl class=dl-horizontal>\n",
       "\t<dt>1</dt>\n",
       "\t\t<dd>8456</dd>\n",
       "\t<dt>2</dt>\n",
       "\t\t<dd>12804</dd>\n",
       "\t<dt>3</dt>\n",
       "\t\t<dd>14780</dd>\n",
       "\t<dt>4</dt>\n",
       "\t\t<dd>7666</dd>\n",
       "\t<dt>5</dt>\n",
       "\t\t<dd>5700</dd>\n",
       "\t<dt>6</dt>\n",
       "\t\t<dd>4980</dd>\n",
       "\t<dt>7</dt>\n",
       "\t\t<dd>7852</dd>\n",
       "\t<dt>8</dt>\n",
       "\t\t<dd>7426</dd>\n",
       "\t<dt>9</dt>\n",
       "\t\t<dd>9680</dd>\n",
       "\t<dt>10</dt>\n",
       "\t\t<dd>5833</dd>\n",
       "\t<dt>11</dt>\n",
       "\t\t<dd>14823</dd>\n",
       "</dl>\n"
      ],
      "text/latex": [
       "\\begin{description*}\n",
       "\\item[1] 8456\n",
       "\\item[2] 12804\n",
       "\\item[3] 14780\n",
       "\\item[4] 7666\n",
       "\\item[5] 5700\n",
       "\\item[6] 4980\n",
       "\\item[7] 7852\n",
       "\\item[8] 7426\n",
       "\\item[9] 9680\n",
       "\\item[10] 5833\n",
       "\\item[11] 14823\n",
       "\\end{description*}\n"
      ],
      "text/markdown": [
       "1\n",
       ":   84562\n",
       ":   128043\n",
       ":   147804\n",
       ":   76665\n",
       ":   57006\n",
       ":   49807\n",
       ":   78528\n",
       ":   74269\n",
       ":   968010\n",
       ":   583311\n",
       ":   14823\n",
       "\n"
      ],
      "text/plain": [
       "    1     2     3     4     5     6     7     8     9    10    11 \n",
       " 8456 12804 14780  7666  5700  4980  7852  7426  9680  5833 14823 "
      ]
     },
     "metadata": {},
     "output_type": "display_data"
    }
   ],
   "source": [
    "summary(factor(survival_df$time))"
   ]
  },
  {
   "cell_type": "markdown",
   "metadata": {},
   "source": [
    "# 3. Survival Analysis"
   ]
  },
  {
   "cell_type": "code",
   "execution_count": 10,
   "metadata": {},
   "outputs": [
    {
     "data": {
      "text/plain": [
       "Call: survfit(formula = Surv(time, churn) ~ 1, data = survival_df)\n",
       "\n",
       " time n.risk n.event survival std.err lower 95% CI upper 95% CI\n",
       "    1 100000    8456    0.915 0.00088        0.914        0.917\n",
       "    2  91544   12804    0.787 0.00129        0.785        0.790\n",
       "    3  78740   14780    0.640 0.00152        0.637        0.643\n",
       "    4  63960    6468    0.575 0.00156        0.572        0.578\n",
       "    5  56294    5076    0.523 0.00158        0.520        0.526\n",
       "    6  50594    3883    0.483 0.00159        0.480        0.486\n",
       "    7  45614    6988    0.409 0.00157        0.406        0.412\n",
       "    8  37762    6015    0.344 0.00153        0.341        0.347\n",
       "    9  30336    7077    0.264 0.00144        0.261        0.266\n",
       "   10  20656    3453    0.220 0.00138        0.217        0.222"
      ]
     },
     "metadata": {},
     "output_type": "display_data"
    }
   ],
   "source": [
    "game.surv <- survfit(Surv(time, churn) ~ 1, data = survival_df)\n",
    "summary(game.surv)"
   ]
  },
  {
   "cell_type": "code",
   "execution_count": 11,
   "metadata": {},
   "outputs": [
    {
     "data": {},
     "metadata": {},
     "output_type": "display_data"
    },
    {
     "data": {
      "image/png": "[encoded data removed]",
      "text/plain": [
       "plot without title"
      ]
     },
     "metadata": {},
     "output_type": "display_data"
    }
   ],
   "source": [
    "ggsurvplot(game.surv, censor = F, conf.int = T, risk.table = T)"
   ]
  },
  {
   "cell_type": "code",
   "execution_count": null,
   "metadata": {},
   "outputs": [],
   "source": []
  }
 ],
 "metadata": {
  "kernelspec": {
   "display_name": "R",
   "language": "R",
   "name": "ir"
  },
  "language_info": {
   "codemirror_mode": "r",
   "file_extension": ".r",
   "mimetype": "text/x-r-source",
   "name": "R",
   "pygments_lexer": "r",
   "version": "3.4.3"
  }
 },
 "nbformat": 4,
 "nbformat_minor": 2
}
