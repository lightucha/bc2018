{
 "cells": [
  {
   "cell_type": "markdown",
   "metadata": {},
   "source": [
    "# Prediction"
   ]
  },
  {
   "cell_type": "markdown",
   "metadata": {},
   "source": [
    "# 1. Setting Environment"
   ]
  },
  {
   "cell_type": "markdown",
   "metadata": {},
   "source": [
    "## 1.1 Load libraries"
   ]
  },
  {
   "cell_type": "code",
   "execution_count": 30,
   "metadata": {},
   "outputs": [],
   "source": [
    "library(data.table)\n",
    "library(dplyr)\n",
    "library(stringr)\n",
    "library(tidyr)\n",
    "library(caret)\n",
    "library(party)\n",
    "library(randomForest)\n",
    "library(RColorBrewer)"
   ]
  },
  {
   "cell_type": "markdown",
   "metadata": {},
   "source": [
    "# 1.2 Load data"
   ]
  },
  {
   "cell_type": "code",
   "execution_count": 3,
   "metadata": {},
   "outputs": [
    {
     "name": "stdout",
     "output_type": "stream",
     "text": [
      "Read 440323 rows and 39 (of 39) columns from 0.305 GB file in 00:00:20\n",
      "Read 800000 rows and 4 (of 4) columns from 0.071 GB file in 00:00:04\n"
     ]
    }
   ],
   "source": [
    "activity <- fread(\"data/futureleague/reform/train_activity_new.csv\", stringsAsFactors = F)\n",
    "guild    <- fread(\"data/futureleague/reform/train_guild_new.csv\", stringsAsFactors = F)\n",
    "label    <- fread(\"data/futureleague/reform/train_label.csv\", stringsAsFactors = F)\n",
    "payment  <- fread(\"data/futureleague/reform/train_payment_new.csv\", stringsAsFactors = F)"
   ]
  },
  {
   "cell_type": "markdown",
   "metadata": {},
   "source": [
    "## 1.3 Define functions"
   ]
  },
  {
   "cell_type": "code",
   "execution_count": 4,
   "metadata": {},
   "outputs": [],
   "source": [
    "# Predict churn using Logistic Regressin / Decision Tree / Randomforest without parameter tuning\n",
    "predict_churn <- function(df, name, binary = T) {\n",
    "  if (binary == T) {\n",
    "    df <- df %>% mutate(label = ifelse(label == \"retained\", \"0\", \"1\") %>% factor())\n",
    "    target <- \"2-Class\"\n",
    "  } else {\n",
    "    df <- df %>% mutate(label = factor(label))\n",
    "    target <- \"4-Class\"\n",
    "  }\n",
    "  \n",
    "  # Split\n",
    "  train_id <- createDataPartition(df$label, p = 0.7, list = F)\n",
    "  train    <- df[train_id,]\n",
    "  test     <- df[-train_id,]\n",
    "  \n",
    "  # Modeling\n",
    "  formula <- formula(label ~ .)\n",
    "  \n",
    "  dt.fit  <- ctree(formula, data = train)\n",
    "  rf.fit  <- randomForest(formula, data = train)\n",
    "  \n",
    "  # predict\n",
    "  dt.pred <- predict(dt.fit, test)\n",
    "  rf.pred <- predict(rf.fit, test)\n",
    "  \n",
    "  # Result\n",
    "  dt.result  <- confusionMatrix(dt.pred, test$label, positive = \"1\", mode = \"everything\")\n",
    "  rf.result  <- confusionMatrix(rf.pred, test$label, positive = \"1\", mode = \"everything\")\n",
    "  \n",
    "  if (binary == T) {\n",
    "    glm.fit <- glm(formula, data = train, family = \"binomial\")\n",
    "    \n",
    "    glm.prob <- predict(glm.fit, test, type = \"response\")\n",
    "    glm.pred <- factor(ifelse(glm.prob > 0.5, 1, 0))\n",
    "    \n",
    "    glm.result <- confusionMatrix(glm.pred, test$label, positive = \"1\", mode = \"everything\")\n",
    "    \n",
    "    return(list(data = name,\n",
    "                target = target,\n",
    "                glm.model = glm.fit,\n",
    "                dt.model = dt.fit,\n",
    "                rf.model = rf.fit,\n",
    "                logistic = glm.result, \n",
    "                decision.tree = dt.result, \n",
    "                randomforest = rf.result))\n",
    "  } else {\n",
    "    return(list(data = name,\n",
    "                target = target,\n",
    "                dt.model = dt.fit,\n",
    "                rf.model = rf.fit,\n",
    "                decision.tree = dt.result, \n",
    "                randomforest = rf.result))\n",
    "  }\n",
    "}"
   ]
  },
  {
   "cell_type": "code",
   "execution_count": 5,
   "metadata": {},
   "outputs": [],
   "source": [
    "# Create result data frame\n",
    "summarize_result <- function(list) {\n",
    "  if (length(list) == 8) {\n",
    "    result <- data.frame(data = rep(list$data, 3),\n",
    "                         target = rep(list$target, 3),\n",
    "                         method = c(\"logistic\", \"decision tree\", \"random forest\"),\n",
    "                         accuracy = c(list$logistic$overall[\"Accuracy\"],\n",
    "                                      list$decision.tree$overall[\"Accuracy\"],\n",
    "                                      list$randomforest$overall[\"Accuracy\"]),\n",
    "                         F1 = c(list$logistic$byClass[\"F1\"],\n",
    "                                list$decision.tree$byClass[\"F1\"],\n",
    "                                list$randomforest$byClass[\"F1\"]), \n",
    "                         stringsAsFactors = F)\n",
    "  } else if (length(list) == 6) {\n",
    "    result <- data.frame(data = rep(list$data, 3),\n",
    "                         target = rep(list$target, 3),\n",
    "                         method = c(\"logistic\", \"decision tree\", \"random forest\"),\n",
    "                         accuracy = c(NA,\n",
    "                                      list$decision.tree$overall[\"Accuracy\"],\n",
    "                                      list$randomforest$overall[\"Accuracy\"]),\n",
    "                         F1 = c(NA,\n",
    "                                list$decision.tree$byClass[, \"F1\"] %>% mean(na.rm = T),\n",
    "                                list$randomforest$byClass[, \"F1\"] %>% mean(na.rm = T)), \n",
    "                         stringsAsFactors = F)\n",
    "  } else {\n",
    "    print(\"0\")\n",
    "  }\n",
    "  return(result)\n",
    "}"
   ]
  },
  {
   "cell_type": "markdown",
   "metadata": {},
   "source": [
    "## 1.4 ETC Setting"
   ]
  },
  {
   "cell_type": "code",
   "execution_count": 40,
   "metadata": {},
   "outputs": [
    {
     "data": {
      "text/html": [
       "80000"
      ],
      "text/latex": [
       "80000"
      ],
      "text/markdown": [
       "80000"
      ],
      "text/plain": [
       "[1] 80000"
      ]
     },
     "metadata": {},
     "output_type": "display_data"
    }
   ],
   "source": [
    "theme_set(theme_bw())\n",
    "options(repr.plot.width = 10, repr.plot.height = 7)\n",
    "memory.limit(80000)"
   ]
  },
  {
   "cell_type": "markdown",
   "metadata": {},
   "source": [
    "# 2. Preprocessing"
   ]
  },
  {
   "cell_type": "code",
   "execution_count": 12,
   "metadata": {},
   "outputs": [
    {
     "data": {
      "text/html": [
       "<table>\n",
       "<thead><tr><th scope=col>payment_id</th><th scope=col>payment_week</th><th scope=col>acc_id</th><th scope=col>payment_amount</th></tr></thead>\n",
       "<tbody>\n",
       "\t<tr><td>M770420                                                         </td><td>1                                                               </td><td>3dc6f2875dc6e6f35b9e2bdb25b391a8003386ff23becd109415062b2bd58709</td><td>-0.1498985                                                      </td></tr>\n",
       "\t<tr><td>M208640                                                         </td><td>2                                                               </td><td>3dc6f2875dc6e6f35b9e2bdb25b391a8003386ff23becd109415062b2bd58709</td><td>-0.1498985                                                      </td></tr>\n",
       "\t<tr><td>M117311                                                         </td><td>3                                                               </td><td>3dc6f2875dc6e6f35b9e2bdb25b391a8003386ff23becd109415062b2bd58709</td><td>-0.1498985                                                      </td></tr>\n",
       "\t<tr><td>M488526                                                         </td><td>4                                                               </td><td>3dc6f2875dc6e6f35b9e2bdb25b391a8003386ff23becd109415062b2bd58709</td><td>-0.1498985                                                      </td></tr>\n",
       "\t<tr><td>M77701                                                          </td><td>5                                                               </td><td>3dc6f2875dc6e6f35b9e2bdb25b391a8003386ff23becd109415062b2bd58709</td><td>-0.1498985                                                      </td></tr>\n",
       "\t<tr><td>M383648                                                         </td><td>6                                                               </td><td>3dc6f2875dc6e6f35b9e2bdb25b391a8003386ff23becd109415062b2bd58709</td><td>-0.1498985                                                      </td></tr>\n",
       "</tbody>\n",
       "</table>\n"
      ],
      "text/latex": [
       "\\begin{tabular}{r|llll}\n",
       " payment\\_id & payment\\_week & acc\\_id & payment\\_amount\\\\\n",
       "\\hline\n",
       "\t M770420                                                          & 1                                                                & 3dc6f2875dc6e6f35b9e2bdb25b391a8003386ff23becd109415062b2bd58709 & -0.1498985                                                      \\\\\n",
       "\t M208640                                                          & 2                                                                & 3dc6f2875dc6e6f35b9e2bdb25b391a8003386ff23becd109415062b2bd58709 & -0.1498985                                                      \\\\\n",
       "\t M117311                                                          & 3                                                                & 3dc6f2875dc6e6f35b9e2bdb25b391a8003386ff23becd109415062b2bd58709 & -0.1498985                                                      \\\\\n",
       "\t M488526                                                          & 4                                                                & 3dc6f2875dc6e6f35b9e2bdb25b391a8003386ff23becd109415062b2bd58709 & -0.1498985                                                      \\\\\n",
       "\t M77701                                                           & 5                                                                & 3dc6f2875dc6e6f35b9e2bdb25b391a8003386ff23becd109415062b2bd58709 & -0.1498985                                                      \\\\\n",
       "\t M383648                                                          & 6                                                                & 3dc6f2875dc6e6f35b9e2bdb25b391a8003386ff23becd109415062b2bd58709 & -0.1498985                                                      \\\\\n",
       "\\end{tabular}\n"
      ],
      "text/markdown": [
       "\n",
       "payment_id | payment_week | acc_id | payment_amount | \n",
       "|---|---|---|---|---|---|\n",
       "| M770420                                                          | 1                                                                | 3dc6f2875dc6e6f35b9e2bdb25b391a8003386ff23becd109415062b2bd58709 | -0.1498985                                                       | \n",
       "| M208640                                                          | 2                                                                | 3dc6f2875dc6e6f35b9e2bdb25b391a8003386ff23becd109415062b2bd58709 | -0.1498985                                                       | \n",
       "| M117311                                                          | 3                                                                | 3dc6f2875dc6e6f35b9e2bdb25b391a8003386ff23becd109415062b2bd58709 | -0.1498985                                                       | \n",
       "| M488526                                                          | 4                                                                | 3dc6f2875dc6e6f35b9e2bdb25b391a8003386ff23becd109415062b2bd58709 | -0.1498985                                                       | \n",
       "| M77701                                                           | 5                                                                | 3dc6f2875dc6e6f35b9e2bdb25b391a8003386ff23becd109415062b2bd58709 | -0.1498985                                                       | \n",
       "| M383648                                                          | 6                                                                | 3dc6f2875dc6e6f35b9e2bdb25b391a8003386ff23becd109415062b2bd58709 | -0.1498985                                                       | \n",
       "\n",
       "\n"
      ],
      "text/plain": [
       "  payment_id payment_week\n",
       "1 M770420    1           \n",
       "2 M208640    2           \n",
       "3 M117311    3           \n",
       "4 M488526    4           \n",
       "5 M77701     5           \n",
       "6 M383648    6           \n",
       "  acc_id                                                          \n",
       "1 3dc6f2875dc6e6f35b9e2bdb25b391a8003386ff23becd109415062b2bd58709\n",
       "2 3dc6f2875dc6e6f35b9e2bdb25b391a8003386ff23becd109415062b2bd58709\n",
       "3 3dc6f2875dc6e6f35b9e2bdb25b391a8003386ff23becd109415062b2bd58709\n",
       "4 3dc6f2875dc6e6f35b9e2bdb25b391a8003386ff23becd109415062b2bd58709\n",
       "5 3dc6f2875dc6e6f35b9e2bdb25b391a8003386ff23becd109415062b2bd58709\n",
       "6 3dc6f2875dc6e6f35b9e2bdb25b391a8003386ff23becd109415062b2bd58709\n",
       "  payment_amount\n",
       "1 -0.1498985    \n",
       "2 -0.1498985    \n",
       "3 -0.1498985    \n",
       "4 -0.1498985    \n",
       "5 -0.1498985    \n",
       "6 -0.1498985    "
      ]
     },
     "metadata": {},
     "output_type": "display_data"
    }
   ],
   "source": [
    "head(payment)"
   ]
  },
  {
   "cell_type": "markdown",
   "metadata": {},
   "source": [
    "## 2.1 Create Payment Variables"
   ]
  },
  {
   "cell_type": "code",
   "execution_count": 15,
   "metadata": {},
   "outputs": [
    {
     "data": {
      "text/html": [
       "<table>\n",
       "<thead><tr><th scope=col>acc_id</th><th scope=col>payment_mean</th></tr></thead>\n",
       "<tbody>\n",
       "\t<tr><td>0000264b01392acfde44f9d8494f112a701dc5d3e5fda6ad090cb205727637e0</td><td>0                                                               </td></tr>\n",
       "\t<tr><td>0001f130e89288ff0df167b998f6eb7085687f411fcb72440d8a55fb2c0eabc8</td><td>0                                                               </td></tr>\n",
       "\t<tr><td>00028f0ad71c07f48aef465fd0c98ba6e3f0f3de3d2f7d14c975f794dfb31e2b</td><td>0                                                               </td></tr>\n",
       "\t<tr><td>00036e5b6a197c196fa10fc0ad4e2853b22294dff64d2735a2795ab3858d5b7a</td><td>0                                                               </td></tr>\n",
       "\t<tr><td>00037fe8e712041a476b8b1b827583cbc34895844057f03da985c953f567e0f2</td><td>0                                                               </td></tr>\n",
       "\t<tr><td>0003b127aa1c0c34490db8817574482464aad9f99cffde4d3e51790dff2cb6ca</td><td>0                                                               </td></tr>\n",
       "</tbody>\n",
       "</table>\n"
      ],
      "text/latex": [
       "\\begin{tabular}{r|ll}\n",
       " acc\\_id & payment\\_mean\\\\\n",
       "\\hline\n",
       "\t 0000264b01392acfde44f9d8494f112a701dc5d3e5fda6ad090cb205727637e0 & 0                                                               \\\\\n",
       "\t 0001f130e89288ff0df167b998f6eb7085687f411fcb72440d8a55fb2c0eabc8 & 0                                                               \\\\\n",
       "\t 00028f0ad71c07f48aef465fd0c98ba6e3f0f3de3d2f7d14c975f794dfb31e2b & 0                                                               \\\\\n",
       "\t 00036e5b6a197c196fa10fc0ad4e2853b22294dff64d2735a2795ab3858d5b7a & 0                                                               \\\\\n",
       "\t 00037fe8e712041a476b8b1b827583cbc34895844057f03da985c953f567e0f2 & 0                                                               \\\\\n",
       "\t 0003b127aa1c0c34490db8817574482464aad9f99cffde4d3e51790dff2cb6ca & 0                                                               \\\\\n",
       "\\end{tabular}\n"
      ],
      "text/markdown": [
       "\n",
       "acc_id | payment_mean | \n",
       "|---|---|---|---|---|---|\n",
       "| 0000264b01392acfde44f9d8494f112a701dc5d3e5fda6ad090cb205727637e0 | 0                                                                | \n",
       "| 0001f130e89288ff0df167b998f6eb7085687f411fcb72440d8a55fb2c0eabc8 | 0                                                                | \n",
       "| 00028f0ad71c07f48aef465fd0c98ba6e3f0f3de3d2f7d14c975f794dfb31e2b | 0                                                                | \n",
       "| 00036e5b6a197c196fa10fc0ad4e2853b22294dff64d2735a2795ab3858d5b7a | 0                                                                | \n",
       "| 00037fe8e712041a476b8b1b827583cbc34895844057f03da985c953f567e0f2 | 0                                                                | \n",
       "| 0003b127aa1c0c34490db8817574482464aad9f99cffde4d3e51790dff2cb6ca | 0                                                                | \n",
       "\n",
       "\n"
      ],
      "text/plain": [
       "  acc_id                                                           payment_mean\n",
       "1 0000264b01392acfde44f9d8494f112a701dc5d3e5fda6ad090cb205727637e0 0           \n",
       "2 0001f130e89288ff0df167b998f6eb7085687f411fcb72440d8a55fb2c0eabc8 0           \n",
       "3 00028f0ad71c07f48aef465fd0c98ba6e3f0f3de3d2f7d14c975f794dfb31e2b 0           \n",
       "4 00036e5b6a197c196fa10fc0ad4e2853b22294dff64d2735a2795ab3858d5b7a 0           \n",
       "5 00037fe8e712041a476b8b1b827583cbc34895844057f03da985c953f567e0f2 0           \n",
       "6 0003b127aa1c0c34490db8817574482464aad9f99cffde4d3e51790dff2cb6ca 0           "
      ]
     },
     "metadata": {},
     "output_type": "display_data"
    }
   ],
   "source": [
    "pay <- payment %>% \n",
    "  mutate(payment_amount_new = (payment_amount - min(payment_amount))/(max(payment_amount) - min(payment_amount))) %>%\n",
    "  group_by(acc_id) %>%\n",
    "  summarize(payment_mean = mean(payment_amount_new))\n",
    "head(pay)"
   ]
  },
  {
   "cell_type": "markdown",
   "metadata": {},
   "source": [
    "## 2.2 Create Guild Variables"
   ]
  },
  {
   "cell_type": "code",
   "execution_count": 16,
   "metadata": {},
   "outputs": [
    {
     "data": {
      "text/html": [
       "<table>\n",
       "<thead><tr><th scope=col>acc_id</th><th scope=col>join_num</th></tr></thead>\n",
       "<tbody>\n",
       "\t<tr><td>000201ba3f72429177413620a3d22dfb348f21622fa7b67e2be2fbf4b06b21f6</td><td>1                                                               </td></tr>\n",
       "\t<tr><td>0007838a3f353aa4a4c938d42ee43a2fa51b03557e624abc6d3ef2375588bd7c</td><td>1                                                               </td></tr>\n",
       "\t<tr><td>00099da993f9a00f3c6575d844d4bf79a658d1e5845a8a17670641e5d15b1be2</td><td>1                                                               </td></tr>\n",
       "\t<tr><td>000af534394783c3a1d28414ce6adc95af45657e34bf7045d41a7ec5cf1ad32f</td><td>1                                                               </td></tr>\n",
       "\t<tr><td>000c7d37960d5261d7680320227e07e53580f654cf0322045a34d50b643a7a1b</td><td>1                                                               </td></tr>\n",
       "\t<tr><td>000f75da470b53684a56be7c49083451cfa58db4573900af1ebe8ad1b1b2be37</td><td>1                                                               </td></tr>\n",
       "</tbody>\n",
       "</table>\n"
      ],
      "text/latex": [
       "\\begin{tabular}{r|ll}\n",
       " acc\\_id & join\\_num\\\\\n",
       "\\hline\n",
       "\t 000201ba3f72429177413620a3d22dfb348f21622fa7b67e2be2fbf4b06b21f6 & 1                                                               \\\\\n",
       "\t 0007838a3f353aa4a4c938d42ee43a2fa51b03557e624abc6d3ef2375588bd7c & 1                                                               \\\\\n",
       "\t 00099da993f9a00f3c6575d844d4bf79a658d1e5845a8a17670641e5d15b1be2 & 1                                                               \\\\\n",
       "\t 000af534394783c3a1d28414ce6adc95af45657e34bf7045d41a7ec5cf1ad32f & 1                                                               \\\\\n",
       "\t 000c7d37960d5261d7680320227e07e53580f654cf0322045a34d50b643a7a1b & 1                                                               \\\\\n",
       "\t 000f75da470b53684a56be7c49083451cfa58db4573900af1ebe8ad1b1b2be37 & 1                                                               \\\\\n",
       "\\end{tabular}\n"
      ],
      "text/markdown": [
       "\n",
       "acc_id | join_num | \n",
       "|---|---|---|---|---|---|\n",
       "| 000201ba3f72429177413620a3d22dfb348f21622fa7b67e2be2fbf4b06b21f6 | 1                                                                | \n",
       "| 0007838a3f353aa4a4c938d42ee43a2fa51b03557e624abc6d3ef2375588bd7c | 1                                                                | \n",
       "| 00099da993f9a00f3c6575d844d4bf79a658d1e5845a8a17670641e5d15b1be2 | 1                                                                | \n",
       "| 000af534394783c3a1d28414ce6adc95af45657e34bf7045d41a7ec5cf1ad32f | 1                                                                | \n",
       "| 000c7d37960d5261d7680320227e07e53580f654cf0322045a34d50b643a7a1b | 1                                                                | \n",
       "| 000f75da470b53684a56be7c49083451cfa58db4573900af1ebe8ad1b1b2be37 | 1                                                                | \n",
       "\n",
       "\n"
      ],
      "text/plain": [
       "  acc_id                                                           join_num\n",
       "1 000201ba3f72429177413620a3d22dfb348f21622fa7b67e2be2fbf4b06b21f6 1       \n",
       "2 0007838a3f353aa4a4c938d42ee43a2fa51b03557e624abc6d3ef2375588bd7c 1       \n",
       "3 00099da993f9a00f3c6575d844d4bf79a658d1e5845a8a17670641e5d15b1be2 1       \n",
       "4 000af534394783c3a1d28414ce6adc95af45657e34bf7045d41a7ec5cf1ad32f 1       \n",
       "5 000c7d37960d5261d7680320227e07e53580f654cf0322045a34d50b643a7a1b 1       \n",
       "6 000f75da470b53684a56be7c49083451cfa58db4573900af1ebe8ad1b1b2be37 1       "
      ]
     },
     "metadata": {},
     "output_type": "display_data"
    }
   ],
   "source": [
    "guild_join <- guild %>% group_by(acc_id) %>% \n",
    "  summarize(join_num = n())\n",
    "head(guild_join)"
   ]
  },
  {
   "cell_type": "markdown",
   "metadata": {},
   "source": [
    "## 2.3 Create Time Variables"
   ]
  },
  {
   "cell_type": "code",
   "execution_count": 17,
   "metadata": {},
   "outputs": [
    {
     "data": {
      "text/html": [
       "<table>\n",
       "<thead><tr><th scope=col>acc_id</th><th scope=col>wk_num</th><th scope=col>acc_num</th><th scope=col>time_sum</th></tr></thead>\n",
       "<tbody>\n",
       "\t<tr><td>0000264b01392acfde44f9d8494f112a701dc5d3e5fda6ad090cb205727637e0</td><td>2                                                               </td><td>12                                                              </td><td>1.434052579                                                     </td></tr>\n",
       "\t<tr><td>0001f130e89288ff0df167b998f6eb7085687f411fcb72440d8a55fb2c0eabc8</td><td>8                                                               </td><td>25                                                              </td><td>0.001299603                                                     </td></tr>\n",
       "\t<tr><td>00028f0ad71c07f48aef465fd0c98ba6e3f0f3de3d2f7d14c975f794dfb31e2b</td><td>5                                                               </td><td>12                                                              </td><td>0.003850860                                                     </td></tr>\n",
       "\t<tr><td>00036e5b6a197c196fa10fc0ad4e2853b22294dff64d2735a2795ab3858d5b7a</td><td>6                                                               </td><td>31                                                              </td><td>0.158948413                                                     </td></tr>\n",
       "\t<tr><td>00037fe8e712041a476b8b1b827583cbc34895844057f03da985c953f567e0f2</td><td>2                                                               </td><td> 3                                                              </td><td>0.002157738                                                     </td></tr>\n",
       "\t<tr><td>0003b127aa1c0c34490db8817574482464aad9f99cffde4d3e51790dff2cb6ca</td><td>8                                                               </td><td>39                                                              </td><td>0.234343585                                                     </td></tr>\n",
       "</tbody>\n",
       "</table>\n"
      ],
      "text/latex": [
       "\\begin{tabular}{r|llll}\n",
       " acc\\_id & wk\\_num & acc\\_num & time\\_sum\\\\\n",
       "\\hline\n",
       "\t 0000264b01392acfde44f9d8494f112a701dc5d3e5fda6ad090cb205727637e0 & 2                                                                & 12                                                               & 1.434052579                                                     \\\\\n",
       "\t 0001f130e89288ff0df167b998f6eb7085687f411fcb72440d8a55fb2c0eabc8 & 8                                                                & 25                                                               & 0.001299603                                                     \\\\\n",
       "\t 00028f0ad71c07f48aef465fd0c98ba6e3f0f3de3d2f7d14c975f794dfb31e2b & 5                                                                & 12                                                               & 0.003850860                                                     \\\\\n",
       "\t 00036e5b6a197c196fa10fc0ad4e2853b22294dff64d2735a2795ab3858d5b7a & 6                                                                & 31                                                               & 0.158948413                                                     \\\\\n",
       "\t 00037fe8e712041a476b8b1b827583cbc34895844057f03da985c953f567e0f2 & 2                                                                &  3                                                               & 0.002157738                                                     \\\\\n",
       "\t 0003b127aa1c0c34490db8817574482464aad9f99cffde4d3e51790dff2cb6ca & 8                                                                & 39                                                               & 0.234343585                                                     \\\\\n",
       "\\end{tabular}\n"
      ],
      "text/markdown": [
       "\n",
       "acc_id | wk_num | acc_num | time_sum | \n",
       "|---|---|---|---|---|---|\n",
       "| 0000264b01392acfde44f9d8494f112a701dc5d3e5fda6ad090cb205727637e0 | 2                                                                | 12                                                               | 1.434052579                                                      | \n",
       "| 0001f130e89288ff0df167b998f6eb7085687f411fcb72440d8a55fb2c0eabc8 | 8                                                                | 25                                                               | 0.001299603                                                      | \n",
       "| 00028f0ad71c07f48aef465fd0c98ba6e3f0f3de3d2f7d14c975f794dfb31e2b | 5                                                                | 12                                                               | 0.003850860                                                      | \n",
       "| 00036e5b6a197c196fa10fc0ad4e2853b22294dff64d2735a2795ab3858d5b7a | 6                                                                | 31                                                               | 0.158948413                                                      | \n",
       "| 00037fe8e712041a476b8b1b827583cbc34895844057f03da985c953f567e0f2 | 2                                                                |  3                                                               | 0.002157738                                                      | \n",
       "| 0003b127aa1c0c34490db8817574482464aad9f99cffde4d3e51790dff2cb6ca | 8                                                                | 39                                                               | 0.234343585                                                      | \n",
       "\n",
       "\n"
      ],
      "text/plain": [
       "  acc_id                                                           wk_num\n",
       "1 0000264b01392acfde44f9d8494f112a701dc5d3e5fda6ad090cb205727637e0 2     \n",
       "2 0001f130e89288ff0df167b998f6eb7085687f411fcb72440d8a55fb2c0eabc8 8     \n",
       "3 00028f0ad71c07f48aef465fd0c98ba6e3f0f3de3d2f7d14c975f794dfb31e2b 5     \n",
       "4 00036e5b6a197c196fa10fc0ad4e2853b22294dff64d2735a2795ab3858d5b7a 6     \n",
       "5 00037fe8e712041a476b8b1b827583cbc34895844057f03da985c953f567e0f2 2     \n",
       "6 0003b127aa1c0c34490db8817574482464aad9f99cffde4d3e51790dff2cb6ca 8     \n",
       "  acc_num time_sum   \n",
       "1 12      1.434052579\n",
       "2 25      0.001299603\n",
       "3 12      0.003850860\n",
       "4 31      0.158948413\n",
       "5  3      0.002157738\n",
       "6 39      0.234343585"
      ]
     },
     "metadata": {},
     "output_type": "display_data"
    }
   ],
   "source": [
    "time <- activity %>% \n",
    "  mutate(play_time_new = (play_time - min(play_time))/(max(play_time) - min(play_time))) %>%\n",
    "  group_by(acc_id) %>%\n",
    "  summarize(wk_num = n(),\n",
    "            acc_num = sum(cnt_dt),\n",
    "            acc_mean = mean(cnt_dt),\n",
    "            time_sum = sum(play_time_new),\n",
    "            time_wk_mean = mean(play_time_new)) %>%\n",
    "  mutate(time_acc_mean = time_sum/acc_num) %>%\n",
    "  select(acc_id, wk_num, acc_num, time_sum)\n",
    "head(time)"
   ]
  },
  {
   "cell_type": "markdown",
   "metadata": {},
   "source": [
    "## 2.4 Create EXP Variables"
   ]
  },
  {
   "cell_type": "code",
   "execution_count": 18,
   "metadata": {},
   "outputs": [
    {
     "data": {
      "text/html": [
       "<table>\n",
       "<thead><tr><th scope=col>acc_id</th><th scope=col>npc_hongmun_sum</th><th scope=col>quest_hongmun_sum</th><th scope=col>item_hongmun_sum</th></tr></thead>\n",
       "<tbody>\n",
       "\t<tr><td>0000264b01392acfde44f9d8494f112a701dc5d3e5fda6ad090cb205727637e0</td><td>0.0007753815                                                    </td><td>0.225648815                                                     </td><td>0.0000000000                                                    </td></tr>\n",
       "\t<tr><td>0001f130e89288ff0df167b998f6eb7085687f411fcb72440d8a55fb2c0eabc8</td><td>0.0000000000                                                    </td><td>0.000000000                                                     </td><td>0.0000000000                                                    </td></tr>\n",
       "\t<tr><td>00028f0ad71c07f48aef465fd0c98ba6e3f0f3de3d2f7d14c975f794dfb31e2b</td><td>0.0000000000                                                    </td><td>0.000000000                                                     </td><td>0.0000000000                                                    </td></tr>\n",
       "\t<tr><td>00036e5b6a197c196fa10fc0ad4e2853b22294dff64d2735a2795ab3858d5b7a</td><td>0.0002182794                                                    </td><td>0.041978847                                                     </td><td>0.0002675048                                                    </td></tr>\n",
       "\t<tr><td>00037fe8e712041a476b8b1b827583cbc34895844057f03da985c953f567e0f2</td><td>0.0000000000                                                    </td><td>0.000000000                                                     </td><td>0.0000000000                                                    </td></tr>\n",
       "\t<tr><td>0003b127aa1c0c34490db8817574482464aad9f99cffde4d3e51790dff2cb6ca</td><td>0.0019382450                                                    </td><td>0.005506965                                                     </td><td>0.0027419247                                                    </td></tr>\n",
       "</tbody>\n",
       "</table>\n"
      ],
      "text/latex": [
       "\\begin{tabular}{r|llll}\n",
       " acc\\_id & npc\\_hongmun\\_sum & quest\\_hongmun\\_sum & item\\_hongmun\\_sum\\\\\n",
       "\\hline\n",
       "\t 0000264b01392acfde44f9d8494f112a701dc5d3e5fda6ad090cb205727637e0 & 0.0007753815                                                     & 0.225648815                                                      & 0.0000000000                                                    \\\\\n",
       "\t 0001f130e89288ff0df167b998f6eb7085687f411fcb72440d8a55fb2c0eabc8 & 0.0000000000                                                     & 0.000000000                                                      & 0.0000000000                                                    \\\\\n",
       "\t 00028f0ad71c07f48aef465fd0c98ba6e3f0f3de3d2f7d14c975f794dfb31e2b & 0.0000000000                                                     & 0.000000000                                                      & 0.0000000000                                                    \\\\\n",
       "\t 00036e5b6a197c196fa10fc0ad4e2853b22294dff64d2735a2795ab3858d5b7a & 0.0002182794                                                     & 0.041978847                                                      & 0.0002675048                                                    \\\\\n",
       "\t 00037fe8e712041a476b8b1b827583cbc34895844057f03da985c953f567e0f2 & 0.0000000000                                                     & 0.000000000                                                      & 0.0000000000                                                    \\\\\n",
       "\t 0003b127aa1c0c34490db8817574482464aad9f99cffde4d3e51790dff2cb6ca & 0.0019382450                                                     & 0.005506965                                                      & 0.0027419247                                                    \\\\\n",
       "\\end{tabular}\n"
      ],
      "text/markdown": [
       "\n",
       "acc_id | npc_hongmun_sum | quest_hongmun_sum | item_hongmun_sum | \n",
       "|---|---|---|---|---|---|\n",
       "| 0000264b01392acfde44f9d8494f112a701dc5d3e5fda6ad090cb205727637e0 | 0.0007753815                                                     | 0.225648815                                                      | 0.0000000000                                                     | \n",
       "| 0001f130e89288ff0df167b998f6eb7085687f411fcb72440d8a55fb2c0eabc8 | 0.0000000000                                                     | 0.000000000                                                      | 0.0000000000                                                     | \n",
       "| 00028f0ad71c07f48aef465fd0c98ba6e3f0f3de3d2f7d14c975f794dfb31e2b | 0.0000000000                                                     | 0.000000000                                                      | 0.0000000000                                                     | \n",
       "| 00036e5b6a197c196fa10fc0ad4e2853b22294dff64d2735a2795ab3858d5b7a | 0.0002182794                                                     | 0.041978847                                                      | 0.0002675048                                                     | \n",
       "| 00037fe8e712041a476b8b1b827583cbc34895844057f03da985c953f567e0f2 | 0.0000000000                                                     | 0.000000000                                                      | 0.0000000000                                                     | \n",
       "| 0003b127aa1c0c34490db8817574482464aad9f99cffde4d3e51790dff2cb6ca | 0.0019382450                                                     | 0.005506965                                                      | 0.0027419247                                                     | \n",
       "\n",
       "\n"
      ],
      "text/plain": [
       "  acc_id                                                          \n",
       "1 0000264b01392acfde44f9d8494f112a701dc5d3e5fda6ad090cb205727637e0\n",
       "2 0001f130e89288ff0df167b998f6eb7085687f411fcb72440d8a55fb2c0eabc8\n",
       "3 00028f0ad71c07f48aef465fd0c98ba6e3f0f3de3d2f7d14c975f794dfb31e2b\n",
       "4 00036e5b6a197c196fa10fc0ad4e2853b22294dff64d2735a2795ab3858d5b7a\n",
       "5 00037fe8e712041a476b8b1b827583cbc34895844057f03da985c953f567e0f2\n",
       "6 0003b127aa1c0c34490db8817574482464aad9f99cffde4d3e51790dff2cb6ca\n",
       "  npc_hongmun_sum quest_hongmun_sum item_hongmun_sum\n",
       "1 0.0007753815    0.225648815       0.0000000000    \n",
       "2 0.0000000000    0.000000000       0.0000000000    \n",
       "3 0.0000000000    0.000000000       0.0000000000    \n",
       "4 0.0002182794    0.041978847       0.0002675048    \n",
       "5 0.0000000000    0.000000000       0.0000000000    \n",
       "6 0.0019382450    0.005506965       0.0027419247    "
      ]
     },
     "metadata": {},
     "output_type": "display_data"
    }
   ],
   "source": [
    "exp <- activity %>%\n",
    "  mutate(npc_exp_new = (npc_exp - min(npc_exp))/(max(npc_exp) - min(npc_exp)),\n",
    "         npc_hongmun_new = (npc_hongmun - min(npc_hongmun))/(max(npc_hongmun) - min(npc_hongmun)),\n",
    "         quest_exp_new = (quest_exp - min(quest_exp))/(max(quest_exp) - min(quest_exp)),\n",
    "         quest_hongmun_new = (quest_hongmun - min(quest_hongmun))/(max(quest_hongmun) - min(quest_hongmun)),\n",
    "         item_hongmun_new = (item_hongmun - min(item_hongmun))/(max(item_hongmun) - min(item_hongmun))) %>%\n",
    "  group_by(acc_id) %>%\n",
    "  summarize(acc_num = sum(cnt_dt),\n",
    "            npc_exp_wk_mean = mean(npc_exp_new),\n",
    "            npc_exp_sum = sum(npc_exp_new),\n",
    "            npc_hongmun_wk_mean = mean(npc_hongmun_new),\n",
    "            npc_hongmun_sum = sum(npc_hongmun_new),\n",
    "            quest_exp_wk_mean = mean(quest_exp_new),\n",
    "            quest_exp_sum = sum(quest_exp_new),\n",
    "            quest_hongmun_wk_mean = mean(quest_hongmun_new),\n",
    "            quest_hongmun_sum = sum(quest_hongmun_new),\n",
    "            item_hongmun_wk_mean = mean(item_hongmun_new),\n",
    "            item_hongmun_sum = sum(item_hongmun_new)) %>%\n",
    "  mutate(npc_exp_acc_mean = npc_exp_sum / acc_num,\n",
    "         npc_hongmun_acc_mean = npc_hongmun_sum / acc_num,\n",
    "         quest_exp_acc_mean = quest_exp_sum / acc_num,\n",
    "         quest_hongmun_acc_mean = quest_hongmun_sum / acc_num,\n",
    "         item_hongmun_acc_mean = item_hongmun_sum / acc_num) %>%\n",
    "  select(acc_id, npc_hongmun_sum, quest_hongmun_sum, item_hongmun_sum)\n",
    "head(exp)"
   ]
  },
  {
   "cell_type": "markdown",
   "metadata": {},
   "source": [
    "## 2.5 Create Dungeon Variables"
   ]
  },
  {
   "cell_type": "code",
   "execution_count": 19,
   "metadata": {},
   "outputs": [],
   "source": [
    "dungeon_temp <- apply(activity[,c(17:30)], 2, function(x) { (x - min(x))/(max(x) - min(x)) }) %>% \n",
    "  as.data.frame() %>% cbind(activity[,c(2,3,4)]) %>% select(acc_id, wk, cnt_dt, everything())"
   ]
  },
  {
   "cell_type": "code",
   "execution_count": 21,
   "metadata": {},
   "outputs": [
    {
     "data": {
      "text/html": [
       "<table>\n",
       "<thead><tr><th scope=col>acc_id</th><th scope=col>enter_skilled_wk_mean</th><th scope=col>clear_skilled_wk_mean</th><th scope=col>enter_inzone_sum</th><th scope=col>clear_inzone_sum</th><th scope=col>enter_raid_sum</th><th scope=col>clear_raid_sum</th></tr></thead>\n",
       "<tbody>\n",
       "\t<tr><td>0000264b01392acfde44f9d8494f112a701dc5d3e5fda6ad090cb205727637e0</td><td>0                                                               </td><td>0                                                               </td><td>0.03225806                                                      </td><td>0.03898635                                                      </td><td>0                                                               </td><td>0                                                               </td></tr>\n",
       "\t<tr><td>0001f130e89288ff0df167b998f6eb7085687f411fcb72440d8a55fb2c0eabc8</td><td>0                                                               </td><td>0                                                               </td><td>0.00000000                                                      </td><td>0.00000000                                                      </td><td>0                                                               </td><td>0                                                               </td></tr>\n",
       "\t<tr><td>00028f0ad71c07f48aef465fd0c98ba6e3f0f3de3d2f7d14c975f794dfb31e2b</td><td>0                                                               </td><td>0                                                               </td><td>0.00000000                                                      </td><td>0.00000000                                                      </td><td>0                                                               </td><td>0                                                               </td></tr>\n",
       "\t<tr><td>00036e5b6a197c196fa10fc0ad4e2853b22294dff64d2735a2795ab3858d5b7a</td><td>0                                                               </td><td>0                                                               </td><td>0.17877183                                                      </td><td>0.17894392                                                      </td><td>0                                                               </td><td>0                                                               </td></tr>\n",
       "\t<tr><td>00037fe8e712041a476b8b1b827583cbc34895844057f03da985c953f567e0f2</td><td>0                                                               </td><td>0                                                               </td><td>0.00000000                                                      </td><td>0.00000000                                                      </td><td>0                                                               </td><td>0                                                               </td></tr>\n",
       "\t<tr><td>0003b127aa1c0c34490db8817574482464aad9f99cffde4d3e51790dff2cb6ca</td><td>0                                                               </td><td>0                                                               </td><td>0.28982361                                                      </td><td>0.29173639                                                      </td><td>0                                                               </td><td>0                                                               </td></tr>\n",
       "</tbody>\n",
       "</table>\n"
      ],
      "text/latex": [
       "\\begin{tabular}{r|lllllll}\n",
       " acc\\_id & enter\\_skilled\\_wk\\_mean & clear\\_skilled\\_wk\\_mean & enter\\_inzone\\_sum & clear\\_inzone\\_sum & enter\\_raid\\_sum & clear\\_raid\\_sum\\\\\n",
       "\\hline\n",
       "\t 0000264b01392acfde44f9d8494f112a701dc5d3e5fda6ad090cb205727637e0 & 0                                                                & 0                                                                & 0.03225806                                                       & 0.03898635                                                       & 0                                                                & 0                                                               \\\\\n",
       "\t 0001f130e89288ff0df167b998f6eb7085687f411fcb72440d8a55fb2c0eabc8 & 0                                                                & 0                                                                & 0.00000000                                                       & 0.00000000                                                       & 0                                                                & 0                                                               \\\\\n",
       "\t 00028f0ad71c07f48aef465fd0c98ba6e3f0f3de3d2f7d14c975f794dfb31e2b & 0                                                                & 0                                                                & 0.00000000                                                       & 0.00000000                                                       & 0                                                                & 0                                                               \\\\\n",
       "\t 00036e5b6a197c196fa10fc0ad4e2853b22294dff64d2735a2795ab3858d5b7a & 0                                                                & 0                                                                & 0.17877183                                                       & 0.17894392                                                       & 0                                                                & 0                                                               \\\\\n",
       "\t 00037fe8e712041a476b8b1b827583cbc34895844057f03da985c953f567e0f2 & 0                                                                & 0                                                                & 0.00000000                                                       & 0.00000000                                                       & 0                                                                & 0                                                               \\\\\n",
       "\t 0003b127aa1c0c34490db8817574482464aad9f99cffde4d3e51790dff2cb6ca & 0                                                                & 0                                                                & 0.28982361                                                       & 0.29173639                                                       & 0                                                                & 0                                                               \\\\\n",
       "\\end{tabular}\n"
      ],
      "text/markdown": [
       "\n",
       "acc_id | enter_skilled_wk_mean | clear_skilled_wk_mean | enter_inzone_sum | clear_inzone_sum | enter_raid_sum | clear_raid_sum | \n",
       "|---|---|---|---|---|---|\n",
       "| 0000264b01392acfde44f9d8494f112a701dc5d3e5fda6ad090cb205727637e0 | 0                                                                | 0                                                                | 0.03225806                                                       | 0.03898635                                                       | 0                                                                | 0                                                                | \n",
       "| 0001f130e89288ff0df167b998f6eb7085687f411fcb72440d8a55fb2c0eabc8 | 0                                                                | 0                                                                | 0.00000000                                                       | 0.00000000                                                       | 0                                                                | 0                                                                | \n",
       "| 00028f0ad71c07f48aef465fd0c98ba6e3f0f3de3d2f7d14c975f794dfb31e2b | 0                                                                | 0                                                                | 0.00000000                                                       | 0.00000000                                                       | 0                                                                | 0                                                                | \n",
       "| 00036e5b6a197c196fa10fc0ad4e2853b22294dff64d2735a2795ab3858d5b7a | 0                                                                | 0                                                                | 0.17877183                                                       | 0.17894392                                                       | 0                                                                | 0                                                                | \n",
       "| 00037fe8e712041a476b8b1b827583cbc34895844057f03da985c953f567e0f2 | 0                                                                | 0                                                                | 0.00000000                                                       | 0.00000000                                                       | 0                                                                | 0                                                                | \n",
       "| 0003b127aa1c0c34490db8817574482464aad9f99cffde4d3e51790dff2cb6ca | 0                                                                | 0                                                                | 0.28982361                                                       | 0.29173639                                                       | 0                                                                | 0                                                                | \n",
       "\n",
       "\n"
      ],
      "text/plain": [
       "  acc_id                                                          \n",
       "1 0000264b01392acfde44f9d8494f112a701dc5d3e5fda6ad090cb205727637e0\n",
       "2 0001f130e89288ff0df167b998f6eb7085687f411fcb72440d8a55fb2c0eabc8\n",
       "3 00028f0ad71c07f48aef465fd0c98ba6e3f0f3de3d2f7d14c975f794dfb31e2b\n",
       "4 00036e5b6a197c196fa10fc0ad4e2853b22294dff64d2735a2795ab3858d5b7a\n",
       "5 00037fe8e712041a476b8b1b827583cbc34895844057f03da985c953f567e0f2\n",
       "6 0003b127aa1c0c34490db8817574482464aad9f99cffde4d3e51790dff2cb6ca\n",
       "  enter_skilled_wk_mean clear_skilled_wk_mean enter_inzone_sum clear_inzone_sum\n",
       "1 0                     0                     0.03225806       0.03898635      \n",
       "2 0                     0                     0.00000000       0.00000000      \n",
       "3 0                     0                     0.00000000       0.00000000      \n",
       "4 0                     0                     0.17877183       0.17894392      \n",
       "5 0                     0                     0.00000000       0.00000000      \n",
       "6 0                     0                     0.28982361       0.29173639      \n",
       "  enter_raid_sum clear_raid_sum\n",
       "1 0              0             \n",
       "2 0              0             \n",
       "3 0              0             \n",
       "4 0              0             \n",
       "5 0              0             \n",
       "6 0              0             "
      ]
     },
     "metadata": {},
     "output_type": "display_data"
    }
   ],
   "source": [
    "dungeon <- dungeon_temp %>%\n",
    "  mutate(enter_inzone = cnt_enter_inzone_solo + cnt_enter_inzone_normal,\n",
    "         enter_skilled = cnt_enter_inzone_skilled,\n",
    "         enter_raid = cnt_enter_raid + cnt_enter_raid_light,\n",
    "         enter_bam = cnt_enter_bam,\n",
    "         clear_inzone = cnt_clear_inzone_solo + cnt_clear_inzone_normal,\n",
    "         clear_skilled = cnt_clear_inzone_skilled,\n",
    "         clear_raid = cnt_clear_raid + cnt_clear_raid_light,\n",
    "         clear_bam = cnt_clear_bam) %>%\n",
    "  group_by(acc_id) %>%\n",
    "  summarize(acc_num = sum(cnt_dt),\n",
    "            enter_inzone_sum = sum(enter_inzone),\n",
    "            enter_inzone_wk_mean = mean(enter_inzone),\n",
    "            enter_skilled_sum = sum(enter_skilled),\n",
    "            enter_skilled_wk_mean = mean(enter_skilled),\n",
    "            enter_raid_sum = sum(enter_raid),\n",
    "            enter_raid_wk_mean = mean(enter_raid),\n",
    "            enter_bam_sum = sum(enter_bam),\n",
    "            enter_bam_wk_mean = mean(enter_bam),\n",
    "            clear_inzone_sum = sum(clear_inzone),\n",
    "            clear_inzone_wk_mean = mean(clear_inzone),\n",
    "            clear_skilled_sum = sum(clear_skilled),\n",
    "            clear_skilled_wk_mean = mean(clear_skilled),\n",
    "            clear_raid_sum = sum(clear_raid),\n",
    "            clear_raid_wk_mean = mean(clear_raid),\n",
    "            clear_bam_sum = sum(clear_bam),\n",
    "            clear_bam_wk_mean = mean(clear_bam)) %>%\n",
    "  mutate(enter_inzone_acc_mean = enter_inzone_sum / acc_num,\n",
    "         enter_skilled_acc_mean = enter_skilled_sum / acc_num,\n",
    "         enter_raid_acc_mean = enter_raid_sum / acc_num,\n",
    "         enter_bam_acc_mean = enter_bam_sum / acc_num,\n",
    "         clear_inzone_acc_mean = clear_inzone_sum / acc_num,\n",
    "         clear_skilled_acc_mean = clear_skilled_sum / acc_num,\n",
    "         clear_raid_acc_mean = clear_raid_sum / acc_num,\n",
    "         clear_bam_acc_mean = clear_bam_sum / acc_num) %>%\n",
    "  select(-acc_num) %>%\n",
    "  select(acc_id, enter_skilled_wk_mean, clear_skilled_wk_mean, \n",
    "         enter_inzone_sum, clear_inzone_sum,\n",
    "         enter_raid_sum, clear_raid_sum)\n",
    "head(dungeon)"
   ]
  },
  {
   "cell_type": "markdown",
   "metadata": {},
   "source": [
    "# 3. Data Merge"
   ]
  },
  {
   "cell_type": "markdown",
   "metadata": {},
   "source": [
    "## 3.1 Base line"
   ]
  },
  {
   "cell_type": "code",
   "execution_count": 22,
   "metadata": {},
   "outputs": [
    {
     "data": {
      "text/html": [
       "<table>\n",
       "<thead><tr><th scope=col>label</th><th scope=col>payment_mean</th><th scope=col>join_num</th></tr></thead>\n",
       "<tbody>\n",
       "\t<tr><td>week     </td><td>0.0000000</td><td>0        </td></tr>\n",
       "\t<tr><td>week     </td><td>0.0000000</td><td>0        </td></tr>\n",
       "\t<tr><td>week     </td><td>0.0000000</td><td>0        </td></tr>\n",
       "\t<tr><td>week     </td><td>0.1644737</td><td>0        </td></tr>\n",
       "\t<tr><td>week     </td><td>0.0000000</td><td>0        </td></tr>\n",
       "\t<tr><td>week     </td><td>0.0000000</td><td>0        </td></tr>\n",
       "</tbody>\n",
       "</table>\n"
      ],
      "text/latex": [
       "\\begin{tabular}{r|lll}\n",
       " label & payment\\_mean & join\\_num\\\\\n",
       "\\hline\n",
       "\t week      & 0.0000000 & 0        \\\\\n",
       "\t week      & 0.0000000 & 0        \\\\\n",
       "\t week      & 0.0000000 & 0        \\\\\n",
       "\t week      & 0.1644737 & 0        \\\\\n",
       "\t week      & 0.0000000 & 0        \\\\\n",
       "\t week      & 0.0000000 & 0        \\\\\n",
       "\\end{tabular}\n"
      ],
      "text/markdown": [
       "\n",
       "label | payment_mean | join_num | \n",
       "|---|---|---|---|---|---|\n",
       "| week      | 0.0000000 | 0         | \n",
       "| week      | 0.0000000 | 0         | \n",
       "| week      | 0.0000000 | 0         | \n",
       "| week      | 0.1644737 | 0         | \n",
       "| week      | 0.0000000 | 0         | \n",
       "| week      | 0.0000000 | 0         | \n",
       "\n",
       "\n"
      ],
      "text/plain": [
       "  label payment_mean join_num\n",
       "1 week  0.0000000    0       \n",
       "2 week  0.0000000    0       \n",
       "3 week  0.0000000    0       \n",
       "4 week  0.1644737    0       \n",
       "5 week  0.0000000    0       \n",
       "6 week  0.0000000    0       "
      ]
     },
     "metadata": {},
     "output_type": "display_data"
    }
   ],
   "source": [
    "game0 <- label  %>% \n",
    "  left_join(pay, by = \"acc_id\") %>%\n",
    "  left_join(guild_join, by = \"acc_id\") %>% \n",
    "  mutate(join_num = ifelse(is.na(join_num), 0, join_num)) %>%\n",
    "  select(-acc_id)\n",
    "head(game0)"
   ]
  },
  {
   "cell_type": "markdown",
   "metadata": {},
   "source": [
    "## 3.2 with time"
   ]
  },
  {
   "cell_type": "code",
   "execution_count": 23,
   "metadata": {},
   "outputs": [
    {
     "data": {
      "text/html": [
       "<table>\n",
       "<thead><tr><th scope=col>label</th><th scope=col>payment_mean</th><th scope=col>join_num</th><th scope=col>wk_num</th><th scope=col>acc_num</th><th scope=col>time_sum</th></tr></thead>\n",
       "<tbody>\n",
       "\t<tr><td>week        </td><td>0.0000000   </td><td>0           </td><td>1           </td><td> 3          </td><td>0.3646825397</td></tr>\n",
       "\t<tr><td>week        </td><td>0.0000000   </td><td>0           </td><td>4           </td><td>23          </td><td>1.6243766534</td></tr>\n",
       "\t<tr><td>week        </td><td>0.0000000   </td><td>0           </td><td>1           </td><td> 3          </td><td>0.2961789021</td></tr>\n",
       "\t<tr><td>week        </td><td>0.1644737   </td><td>0           </td><td>1           </td><td> 1          </td><td>0.0004100529</td></tr>\n",
       "\t<tr><td>week        </td><td>0.0000000   </td><td>0           </td><td>3           </td><td> 7          </td><td>0.2629927249</td></tr>\n",
       "\t<tr><td>week        </td><td>0.0000000   </td><td>0           </td><td>1           </td><td> 4          </td><td>0.3953323413</td></tr>\n",
       "</tbody>\n",
       "</table>\n"
      ],
      "text/latex": [
       "\\begin{tabular}{r|llllll}\n",
       " label & payment\\_mean & join\\_num & wk\\_num & acc\\_num & time\\_sum\\\\\n",
       "\\hline\n",
       "\t week         & 0.0000000    & 0            & 1            &  3           & 0.3646825397\\\\\n",
       "\t week         & 0.0000000    & 0            & 4            & 23           & 1.6243766534\\\\\n",
       "\t week         & 0.0000000    & 0            & 1            &  3           & 0.2961789021\\\\\n",
       "\t week         & 0.1644737    & 0            & 1            &  1           & 0.0004100529\\\\\n",
       "\t week         & 0.0000000    & 0            & 3            &  7           & 0.2629927249\\\\\n",
       "\t week         & 0.0000000    & 0            & 1            &  4           & 0.3953323413\\\\\n",
       "\\end{tabular}\n"
      ],
      "text/markdown": [
       "\n",
       "label | payment_mean | join_num | wk_num | acc_num | time_sum | \n",
       "|---|---|---|---|---|---|\n",
       "| week         | 0.0000000    | 0            | 1            |  3           | 0.3646825397 | \n",
       "| week         | 0.0000000    | 0            | 4            | 23           | 1.6243766534 | \n",
       "| week         | 0.0000000    | 0            | 1            |  3           | 0.2961789021 | \n",
       "| week         | 0.1644737    | 0            | 1            |  1           | 0.0004100529 | \n",
       "| week         | 0.0000000    | 0            | 3            |  7           | 0.2629927249 | \n",
       "| week         | 0.0000000    | 0            | 1            |  4           | 0.3953323413 | \n",
       "\n",
       "\n"
      ],
      "text/plain": [
       "  label payment_mean join_num wk_num acc_num time_sum    \n",
       "1 week  0.0000000    0        1       3      0.3646825397\n",
       "2 week  0.0000000    0        4      23      1.6243766534\n",
       "3 week  0.0000000    0        1       3      0.2961789021\n",
       "4 week  0.1644737    0        1       1      0.0004100529\n",
       "5 week  0.0000000    0        3       7      0.2629927249\n",
       "6 week  0.0000000    0        1       4      0.3953323413"
      ]
     },
     "metadata": {},
     "output_type": "display_data"
    }
   ],
   "source": [
    "game1 <- label  %>% \n",
    "  left_join(pay, by = \"acc_id\") %>%\n",
    "  left_join(guild_join, by = \"acc_id\") %>% \n",
    "  mutate(join_num = ifelse(is.na(join_num), 0, join_num)) %>%\n",
    "  left_join(time, by = \"acc_id\") %>%\n",
    "  select(-acc_id)\n",
    "head(game1)"
   ]
  },
  {
   "cell_type": "markdown",
   "metadata": {},
   "source": [
    "## 3.3 with time & exp"
   ]
  },
  {
   "cell_type": "code",
   "execution_count": 24,
   "metadata": {},
   "outputs": [
    {
     "data": {
      "text/html": [
       "<table>\n",
       "<thead><tr><th scope=col>label</th><th scope=col>payment_mean</th><th scope=col>join_num</th><th scope=col>wk_num</th><th scope=col>acc_num</th><th scope=col>time_sum</th><th scope=col>npc_hongmun_sum</th><th scope=col>quest_hongmun_sum</th><th scope=col>item_hongmun_sum</th></tr></thead>\n",
       "<tbody>\n",
       "\t<tr><td>week        </td><td>0.0000000   </td><td>0           </td><td>1           </td><td> 3          </td><td>0.3646825397</td><td>1.675316e-04</td><td>0.05877253  </td><td>0.000000000 </td></tr>\n",
       "\t<tr><td>week        </td><td>0.0000000   </td><td>0           </td><td>4           </td><td>23          </td><td>1.6243766534</td><td>4.021697e-03</td><td>0.19401024  </td><td>0.006420116 </td></tr>\n",
       "\t<tr><td>week        </td><td>0.0000000   </td><td>0           </td><td>1           </td><td> 3          </td><td>0.2961789021</td><td>9.237076e-05</td><td>0.03643843  </td><td>0.000000000 </td></tr>\n",
       "\t<tr><td>week        </td><td>0.1644737   </td><td>0           </td><td>1           </td><td> 1          </td><td>0.0004100529</td><td>0.000000e+00</td><td>0.00000000  </td><td>0.000000000 </td></tr>\n",
       "\t<tr><td>week        </td><td>0.0000000   </td><td>0           </td><td>3           </td><td> 7          </td><td>0.2629927249</td><td>2.452081e-03</td><td>0.04869407  </td><td>0.002608172 </td></tr>\n",
       "\t<tr><td>week        </td><td>0.0000000   </td><td>0           </td><td>1           </td><td> 4          </td><td>0.3953323413</td><td>5.820249e-03</td><td>0.04889788  </td><td>0.003143182 </td></tr>\n",
       "</tbody>\n",
       "</table>\n"
      ],
      "text/latex": [
       "\\begin{tabular}{r|lllllllll}\n",
       " label & payment\\_mean & join\\_num & wk\\_num & acc\\_num & time\\_sum & npc\\_hongmun\\_sum & quest\\_hongmun\\_sum & item\\_hongmun\\_sum\\\\\n",
       "\\hline\n",
       "\t week         & 0.0000000    & 0            & 1            &  3           & 0.3646825397 & 1.675316e-04 & 0.05877253   & 0.000000000 \\\\\n",
       "\t week         & 0.0000000    & 0            & 4            & 23           & 1.6243766534 & 4.021697e-03 & 0.19401024   & 0.006420116 \\\\\n",
       "\t week         & 0.0000000    & 0            & 1            &  3           & 0.2961789021 & 9.237076e-05 & 0.03643843   & 0.000000000 \\\\\n",
       "\t week         & 0.1644737    & 0            & 1            &  1           & 0.0004100529 & 0.000000e+00 & 0.00000000   & 0.000000000 \\\\\n",
       "\t week         & 0.0000000    & 0            & 3            &  7           & 0.2629927249 & 2.452081e-03 & 0.04869407   & 0.002608172 \\\\\n",
       "\t week         & 0.0000000    & 0            & 1            &  4           & 0.3953323413 & 5.820249e-03 & 0.04889788   & 0.003143182 \\\\\n",
       "\\end{tabular}\n"
      ],
      "text/markdown": [
       "\n",
       "label | payment_mean | join_num | wk_num | acc_num | time_sum | npc_hongmun_sum | quest_hongmun_sum | item_hongmun_sum | \n",
       "|---|---|---|---|---|---|\n",
       "| week         | 0.0000000    | 0            | 1            |  3           | 0.3646825397 | 1.675316e-04 | 0.05877253   | 0.000000000  | \n",
       "| week         | 0.0000000    | 0            | 4            | 23           | 1.6243766534 | 4.021697e-03 | 0.19401024   | 0.006420116  | \n",
       "| week         | 0.0000000    | 0            | 1            |  3           | 0.2961789021 | 9.237076e-05 | 0.03643843   | 0.000000000  | \n",
       "| week         | 0.1644737    | 0            | 1            |  1           | 0.0004100529 | 0.000000e+00 | 0.00000000   | 0.000000000  | \n",
       "| week         | 0.0000000    | 0            | 3            |  7           | 0.2629927249 | 2.452081e-03 | 0.04869407   | 0.002608172  | \n",
       "| week         | 0.0000000    | 0            | 1            |  4           | 0.3953323413 | 5.820249e-03 | 0.04889788   | 0.003143182  | \n",
       "\n",
       "\n"
      ],
      "text/plain": [
       "  label payment_mean join_num wk_num acc_num time_sum     npc_hongmun_sum\n",
       "1 week  0.0000000    0        1       3      0.3646825397 1.675316e-04   \n",
       "2 week  0.0000000    0        4      23      1.6243766534 4.021697e-03   \n",
       "3 week  0.0000000    0        1       3      0.2961789021 9.237076e-05   \n",
       "4 week  0.1644737    0        1       1      0.0004100529 0.000000e+00   \n",
       "5 week  0.0000000    0        3       7      0.2629927249 2.452081e-03   \n",
       "6 week  0.0000000    0        1       4      0.3953323413 5.820249e-03   \n",
       "  quest_hongmun_sum item_hongmun_sum\n",
       "1 0.05877253        0.000000000     \n",
       "2 0.19401024        0.006420116     \n",
       "3 0.03643843        0.000000000     \n",
       "4 0.00000000        0.000000000     \n",
       "5 0.04869407        0.002608172     \n",
       "6 0.04889788        0.003143182     "
      ]
     },
     "metadata": {},
     "output_type": "display_data"
    }
   ],
   "source": [
    "game2 <- label  %>% \n",
    "  left_join(pay, by = \"acc_id\") %>%\n",
    "  left_join(guild_join, by = \"acc_id\") %>% \n",
    "  mutate(join_num = ifelse(is.na(join_num), 0, join_num)) %>%\n",
    "  left_join(time, by = \"acc_id\") %>%\n",
    "  left_join(exp, by = \"acc_id\") %>%\n",
    "  select(-acc_id)\n",
    "head(game2)"
   ]
  },
  {
   "cell_type": "markdown",
   "metadata": {},
   "source": [
    "## 3.4 with time & exp & dungeon"
   ]
  },
  {
   "cell_type": "code",
   "execution_count": 25,
   "metadata": {},
   "outputs": [
    {
     "data": {
      "text/html": [
       "<table>\n",
       "<thead><tr><th scope=col>label</th><th scope=col>payment_mean</th><th scope=col>join_num</th><th scope=col>wk_num</th><th scope=col>acc_num</th><th scope=col>time_sum</th><th scope=col>npc_hongmun_sum</th><th scope=col>quest_hongmun_sum</th><th scope=col>item_hongmun_sum</th><th scope=col>enter_skilled_wk_mean</th><th scope=col>clear_skilled_wk_mean</th><th scope=col>enter_inzone_sum</th><th scope=col>clear_inzone_sum</th><th scope=col>enter_raid_sum</th><th scope=col>clear_raid_sum</th></tr></thead>\n",
       "<tbody>\n",
       "\t<tr><td>week        </td><td>0.0000000   </td><td>0           </td><td>1           </td><td> 3          </td><td>0.3646825397</td><td>1.675316e-04</td><td>0.05877253  </td><td>0.000000000 </td><td>0           </td><td>0           </td><td>0.009677419 </td><td>0.011695906 </td><td>0           </td><td>0           </td></tr>\n",
       "\t<tr><td>week        </td><td>0.0000000   </td><td>0           </td><td>4           </td><td>23          </td><td>1.6243766534</td><td>4.021697e-03</td><td>0.19401024  </td><td>0.006420116 </td><td>0           </td><td>0           </td><td>0.425990283 </td><td>0.413722295 </td><td>0           </td><td>0           </td></tr>\n",
       "\t<tr><td>week        </td><td>0.0000000   </td><td>0           </td><td>1           </td><td> 3          </td><td>0.2961789021</td><td>9.237076e-05</td><td>0.03643843  </td><td>0.000000000 </td><td>0           </td><td>0           </td><td>0.004838710 </td><td>0.005847953 </td><td>0           </td><td>0           </td></tr>\n",
       "\t<tr><td>week        </td><td>0.1644737   </td><td>0           </td><td>1           </td><td> 1          </td><td>0.0004100529</td><td>0.000000e+00</td><td>0.00000000  </td><td>0.000000000 </td><td>0           </td><td>0           </td><td>0.000000000 </td><td>0.000000000 </td><td>0           </td><td>0           </td></tr>\n",
       "\t<tr><td>week        </td><td>0.0000000   </td><td>0           </td><td>3           </td><td> 7          </td><td>0.2629927249</td><td>2.452081e-03</td><td>0.04869407  </td><td>0.002608172 </td><td>0           </td><td>0           </td><td>0.095717162 </td><td>0.105994069 </td><td>0           </td><td>0           </td></tr>\n",
       "\t<tr><td>week        </td><td>0.0000000   </td><td>0           </td><td>1           </td><td> 4          </td><td>0.3953323413</td><td>5.820249e-03</td><td>0.04889788  </td><td>0.003143182 </td><td>0           </td><td>0           </td><td>0.222714142 </td><td>0.238455482 </td><td>0           </td><td>0           </td></tr>\n",
       "</tbody>\n",
       "</table>\n"
      ],
      "text/latex": [
       "\\begin{tabular}{r|lllllllllllllll}\n",
       " label & payment\\_mean & join\\_num & wk\\_num & acc\\_num & time\\_sum & npc\\_hongmun\\_sum & quest\\_hongmun\\_sum & item\\_hongmun\\_sum & enter\\_skilled\\_wk\\_mean & clear\\_skilled\\_wk\\_mean & enter\\_inzone\\_sum & clear\\_inzone\\_sum & enter\\_raid\\_sum & clear\\_raid\\_sum\\\\\n",
       "\\hline\n",
       "\t week         & 0.0000000    & 0            & 1            &  3           & 0.3646825397 & 1.675316e-04 & 0.05877253   & 0.000000000  & 0            & 0            & 0.009677419  & 0.011695906  & 0            & 0           \\\\\n",
       "\t week         & 0.0000000    & 0            & 4            & 23           & 1.6243766534 & 4.021697e-03 & 0.19401024   & 0.006420116  & 0            & 0            & 0.425990283  & 0.413722295  & 0            & 0           \\\\\n",
       "\t week         & 0.0000000    & 0            & 1            &  3           & 0.2961789021 & 9.237076e-05 & 0.03643843   & 0.000000000  & 0            & 0            & 0.004838710  & 0.005847953  & 0            & 0           \\\\\n",
       "\t week         & 0.1644737    & 0            & 1            &  1           & 0.0004100529 & 0.000000e+00 & 0.00000000   & 0.000000000  & 0            & 0            & 0.000000000  & 0.000000000  & 0            & 0           \\\\\n",
       "\t week         & 0.0000000    & 0            & 3            &  7           & 0.2629927249 & 2.452081e-03 & 0.04869407   & 0.002608172  & 0            & 0            & 0.095717162  & 0.105994069  & 0            & 0           \\\\\n",
       "\t week         & 0.0000000    & 0            & 1            &  4           & 0.3953323413 & 5.820249e-03 & 0.04889788   & 0.003143182  & 0            & 0            & 0.222714142  & 0.238455482  & 0            & 0           \\\\\n",
       "\\end{tabular}\n"
      ],
      "text/markdown": [
       "\n",
       "label | payment_mean | join_num | wk_num | acc_num | time_sum | npc_hongmun_sum | quest_hongmun_sum | item_hongmun_sum | enter_skilled_wk_mean | clear_skilled_wk_mean | enter_inzone_sum | clear_inzone_sum | enter_raid_sum | clear_raid_sum | \n",
       "|---|---|---|---|---|---|\n",
       "| week         | 0.0000000    | 0            | 1            |  3           | 0.3646825397 | 1.675316e-04 | 0.05877253   | 0.000000000  | 0            | 0            | 0.009677419  | 0.011695906  | 0            | 0            | \n",
       "| week         | 0.0000000    | 0            | 4            | 23           | 1.6243766534 | 4.021697e-03 | 0.19401024   | 0.006420116  | 0            | 0            | 0.425990283  | 0.413722295  | 0            | 0            | \n",
       "| week         | 0.0000000    | 0            | 1            |  3           | 0.2961789021 | 9.237076e-05 | 0.03643843   | 0.000000000  | 0            | 0            | 0.004838710  | 0.005847953  | 0            | 0            | \n",
       "| week         | 0.1644737    | 0            | 1            |  1           | 0.0004100529 | 0.000000e+00 | 0.00000000   | 0.000000000  | 0            | 0            | 0.000000000  | 0.000000000  | 0            | 0            | \n",
       "| week         | 0.0000000    | 0            | 3            |  7           | 0.2629927249 | 2.452081e-03 | 0.04869407   | 0.002608172  | 0            | 0            | 0.095717162  | 0.105994069  | 0            | 0            | \n",
       "| week         | 0.0000000    | 0            | 1            |  4           | 0.3953323413 | 5.820249e-03 | 0.04889788   | 0.003143182  | 0            | 0            | 0.222714142  | 0.238455482  | 0            | 0            | \n",
       "\n",
       "\n"
      ],
      "text/plain": [
       "  label payment_mean join_num wk_num acc_num time_sum     npc_hongmun_sum\n",
       "1 week  0.0000000    0        1       3      0.3646825397 1.675316e-04   \n",
       "2 week  0.0000000    0        4      23      1.6243766534 4.021697e-03   \n",
       "3 week  0.0000000    0        1       3      0.2961789021 9.237076e-05   \n",
       "4 week  0.1644737    0        1       1      0.0004100529 0.000000e+00   \n",
       "5 week  0.0000000    0        3       7      0.2629927249 2.452081e-03   \n",
       "6 week  0.0000000    0        1       4      0.3953323413 5.820249e-03   \n",
       "  quest_hongmun_sum item_hongmun_sum enter_skilled_wk_mean\n",
       "1 0.05877253        0.000000000      0                    \n",
       "2 0.19401024        0.006420116      0                    \n",
       "3 0.03643843        0.000000000      0                    \n",
       "4 0.00000000        0.000000000      0                    \n",
       "5 0.04869407        0.002608172      0                    \n",
       "6 0.04889788        0.003143182      0                    \n",
       "  clear_skilled_wk_mean enter_inzone_sum clear_inzone_sum enter_raid_sum\n",
       "1 0                     0.009677419      0.011695906      0             \n",
       "2 0                     0.425990283      0.413722295      0             \n",
       "3 0                     0.004838710      0.005847953      0             \n",
       "4 0                     0.000000000      0.000000000      0             \n",
       "5 0                     0.095717162      0.105994069      0             \n",
       "6 0                     0.222714142      0.238455482      0             \n",
       "  clear_raid_sum\n",
       "1 0             \n",
       "2 0             \n",
       "3 0             \n",
       "4 0             \n",
       "5 0             \n",
       "6 0             "
      ]
     },
     "metadata": {},
     "output_type": "display_data"
    }
   ],
   "source": [
    "game3 <- label  %>% \n",
    "  left_join(pay, by = \"acc_id\") %>%\n",
    "  left_join(guild_join, by = \"acc_id\") %>% \n",
    "  mutate(join_num = ifelse(is.na(join_num), 0, join_num)) %>%\n",
    "  left_join(time, by = \"acc_id\") %>%\n",
    "  left_join(exp, by = \"acc_id\") %>%\n",
    "  left_join(dungeon, by = \"acc_id\") %>%\n",
    "  select(-acc_id)\n",
    "head(game3)"
   ]
  },
  {
   "cell_type": "markdown",
   "metadata": {},
   "source": [
    "## 3.5 time"
   ]
  },
  {
   "cell_type": "code",
   "execution_count": 36,
   "metadata": {},
   "outputs": [
    {
     "data": {
      "text/html": [
       "<table>\n",
       "<thead><tr><th scope=col>label</th><th scope=col>payment_mean</th><th scope=col>join_num</th><th scope=col>wk_num</th><th scope=col>acc_num</th><th scope=col>time_sum</th></tr></thead>\n",
       "<tbody>\n",
       "\t<tr><td>week        </td><td>0.0000000   </td><td>0           </td><td>1           </td><td> 3          </td><td>0.3646825397</td></tr>\n",
       "\t<tr><td>week        </td><td>0.0000000   </td><td>0           </td><td>4           </td><td>23          </td><td>1.6243766534</td></tr>\n",
       "\t<tr><td>week        </td><td>0.0000000   </td><td>0           </td><td>1           </td><td> 3          </td><td>0.2961789021</td></tr>\n",
       "\t<tr><td>week        </td><td>0.1644737   </td><td>0           </td><td>1           </td><td> 1          </td><td>0.0004100529</td></tr>\n",
       "\t<tr><td>week        </td><td>0.0000000   </td><td>0           </td><td>3           </td><td> 7          </td><td>0.2629927249</td></tr>\n",
       "\t<tr><td>week        </td><td>0.0000000   </td><td>0           </td><td>1           </td><td> 4          </td><td>0.3953323413</td></tr>\n",
       "</tbody>\n",
       "</table>\n"
      ],
      "text/latex": [
       "\\begin{tabular}{r|llllll}\n",
       " label & payment\\_mean & join\\_num & wk\\_num & acc\\_num & time\\_sum\\\\\n",
       "\\hline\n",
       "\t week         & 0.0000000    & 0            & 1            &  3           & 0.3646825397\\\\\n",
       "\t week         & 0.0000000    & 0            & 4            & 23           & 1.6243766534\\\\\n",
       "\t week         & 0.0000000    & 0            & 1            &  3           & 0.2961789021\\\\\n",
       "\t week         & 0.1644737    & 0            & 1            &  1           & 0.0004100529\\\\\n",
       "\t week         & 0.0000000    & 0            & 3            &  7           & 0.2629927249\\\\\n",
       "\t week         & 0.0000000    & 0            & 1            &  4           & 0.3953323413\\\\\n",
       "\\end{tabular}\n"
      ],
      "text/markdown": [
       "\n",
       "label | payment_mean | join_num | wk_num | acc_num | time_sum | \n",
       "|---|---|---|---|---|---|\n",
       "| week         | 0.0000000    | 0            | 1            |  3           | 0.3646825397 | \n",
       "| week         | 0.0000000    | 0            | 4            | 23           | 1.6243766534 | \n",
       "| week         | 0.0000000    | 0            | 1            |  3           | 0.2961789021 | \n",
       "| week         | 0.1644737    | 0            | 1            |  1           | 0.0004100529 | \n",
       "| week         | 0.0000000    | 0            | 3            |  7           | 0.2629927249 | \n",
       "| week         | 0.0000000    | 0            | 1            |  4           | 0.3953323413 | \n",
       "\n",
       "\n"
      ],
      "text/plain": [
       "  label payment_mean join_num wk_num acc_num time_sum    \n",
       "1 week  0.0000000    0        1       3      0.3646825397\n",
       "2 week  0.0000000    0        4      23      1.6243766534\n",
       "3 week  0.0000000    0        1       3      0.2961789021\n",
       "4 week  0.1644737    0        1       1      0.0004100529\n",
       "5 week  0.0000000    0        3       7      0.2629927249\n",
       "6 week  0.0000000    0        1       4      0.3953323413"
      ]
     },
     "metadata": {},
     "output_type": "display_data"
    }
   ],
   "source": [
    "game_time <- label %>%\n",
    "  left_join(pay, by = \"acc_id\") %>%\n",
    "  left_join(guild_join, by = \"acc_id\") %>% \n",
    "  mutate(join_num = ifelse(is.na(join_num), 0, join_num)) %>%\n",
    "  left_join(time, by = \"acc_id\") %>%\n",
    "  select(-acc_id)\n",
    "head(game_time)"
   ]
  },
  {
   "cell_type": "markdown",
   "metadata": {},
   "source": [
    "## 3.6 exp"
   ]
  },
  {
   "cell_type": "code",
   "execution_count": 37,
   "metadata": {},
   "outputs": [
    {
     "data": {
      "text/html": [
       "<table>\n",
       "<thead><tr><th scope=col>label</th><th scope=col>payment_mean</th><th scope=col>join_num</th><th scope=col>npc_hongmun_sum</th><th scope=col>quest_hongmun_sum</th><th scope=col>item_hongmun_sum</th></tr></thead>\n",
       "<tbody>\n",
       "\t<tr><td>week        </td><td>0.0000000   </td><td>0           </td><td>1.675316e-04</td><td>0.05877253  </td><td>0.000000000 </td></tr>\n",
       "\t<tr><td>week        </td><td>0.0000000   </td><td>0           </td><td>4.021697e-03</td><td>0.19401024  </td><td>0.006420116 </td></tr>\n",
       "\t<tr><td>week        </td><td>0.0000000   </td><td>0           </td><td>9.237076e-05</td><td>0.03643843  </td><td>0.000000000 </td></tr>\n",
       "\t<tr><td>week        </td><td>0.1644737   </td><td>0           </td><td>0.000000e+00</td><td>0.00000000  </td><td>0.000000000 </td></tr>\n",
       "\t<tr><td>week        </td><td>0.0000000   </td><td>0           </td><td>2.452081e-03</td><td>0.04869407  </td><td>0.002608172 </td></tr>\n",
       "\t<tr><td>week        </td><td>0.0000000   </td><td>0           </td><td>5.820249e-03</td><td>0.04889788  </td><td>0.003143182 </td></tr>\n",
       "</tbody>\n",
       "</table>\n"
      ],
      "text/latex": [
       "\\begin{tabular}{r|llllll}\n",
       " label & payment\\_mean & join\\_num & npc\\_hongmun\\_sum & quest\\_hongmun\\_sum & item\\_hongmun\\_sum\\\\\n",
       "\\hline\n",
       "\t week         & 0.0000000    & 0            & 1.675316e-04 & 0.05877253   & 0.000000000 \\\\\n",
       "\t week         & 0.0000000    & 0            & 4.021697e-03 & 0.19401024   & 0.006420116 \\\\\n",
       "\t week         & 0.0000000    & 0            & 9.237076e-05 & 0.03643843   & 0.000000000 \\\\\n",
       "\t week         & 0.1644737    & 0            & 0.000000e+00 & 0.00000000   & 0.000000000 \\\\\n",
       "\t week         & 0.0000000    & 0            & 2.452081e-03 & 0.04869407   & 0.002608172 \\\\\n",
       "\t week         & 0.0000000    & 0            & 5.820249e-03 & 0.04889788   & 0.003143182 \\\\\n",
       "\\end{tabular}\n"
      ],
      "text/markdown": [
       "\n",
       "label | payment_mean | join_num | npc_hongmun_sum | quest_hongmun_sum | item_hongmun_sum | \n",
       "|---|---|---|---|---|---|\n",
       "| week         | 0.0000000    | 0            | 1.675316e-04 | 0.05877253   | 0.000000000  | \n",
       "| week         | 0.0000000    | 0            | 4.021697e-03 | 0.19401024   | 0.006420116  | \n",
       "| week         | 0.0000000    | 0            | 9.237076e-05 | 0.03643843   | 0.000000000  | \n",
       "| week         | 0.1644737    | 0            | 0.000000e+00 | 0.00000000   | 0.000000000  | \n",
       "| week         | 0.0000000    | 0            | 2.452081e-03 | 0.04869407   | 0.002608172  | \n",
       "| week         | 0.0000000    | 0            | 5.820249e-03 | 0.04889788   | 0.003143182  | \n",
       "\n",
       "\n"
      ],
      "text/plain": [
       "  label payment_mean join_num npc_hongmun_sum quest_hongmun_sum\n",
       "1 week  0.0000000    0        1.675316e-04    0.05877253       \n",
       "2 week  0.0000000    0        4.021697e-03    0.19401024       \n",
       "3 week  0.0000000    0        9.237076e-05    0.03643843       \n",
       "4 week  0.1644737    0        0.000000e+00    0.00000000       \n",
       "5 week  0.0000000    0        2.452081e-03    0.04869407       \n",
       "6 week  0.0000000    0        5.820249e-03    0.04889788       \n",
       "  item_hongmun_sum\n",
       "1 0.000000000     \n",
       "2 0.006420116     \n",
       "3 0.000000000     \n",
       "4 0.000000000     \n",
       "5 0.002608172     \n",
       "6 0.003143182     "
      ]
     },
     "metadata": {},
     "output_type": "display_data"
    }
   ],
   "source": [
    "game_exp <- label %>%\n",
    "  left_join(pay, by = \"acc_id\") %>%\n",
    "  left_join(guild_join, by = \"acc_id\") %>% \n",
    "  mutate(join_num = ifelse(is.na(join_num), 0, join_num)) %>%\n",
    "  left_join(exp, by = \"acc_id\") %>%\n",
    "  select(-acc_id)\n",
    "head(game_exp)"
   ]
  },
  {
   "cell_type": "markdown",
   "metadata": {},
   "source": [
    "## 3.7 dungeon"
   ]
  },
  {
   "cell_type": "code",
   "execution_count": 38,
   "metadata": {},
   "outputs": [
    {
     "data": {
      "text/html": [
       "<table>\n",
       "<thead><tr><th scope=col>label</th><th scope=col>payment_mean</th><th scope=col>join_num</th><th scope=col>enter_skilled_wk_mean</th><th scope=col>clear_skilled_wk_mean</th><th scope=col>enter_inzone_sum</th><th scope=col>clear_inzone_sum</th><th scope=col>enter_raid_sum</th><th scope=col>clear_raid_sum</th></tr></thead>\n",
       "<tbody>\n",
       "\t<tr><td>week       </td><td>0.0000000  </td><td>0          </td><td>0          </td><td>0          </td><td>0.009677419</td><td>0.011695906</td><td>0          </td><td>0          </td></tr>\n",
       "\t<tr><td>week       </td><td>0.0000000  </td><td>0          </td><td>0          </td><td>0          </td><td>0.425990283</td><td>0.413722295</td><td>0          </td><td>0          </td></tr>\n",
       "\t<tr><td>week       </td><td>0.0000000  </td><td>0          </td><td>0          </td><td>0          </td><td>0.004838710</td><td>0.005847953</td><td>0          </td><td>0          </td></tr>\n",
       "\t<tr><td>week       </td><td>0.1644737  </td><td>0          </td><td>0          </td><td>0          </td><td>0.000000000</td><td>0.000000000</td><td>0          </td><td>0          </td></tr>\n",
       "\t<tr><td>week       </td><td>0.0000000  </td><td>0          </td><td>0          </td><td>0          </td><td>0.095717162</td><td>0.105994069</td><td>0          </td><td>0          </td></tr>\n",
       "\t<tr><td>week       </td><td>0.0000000  </td><td>0          </td><td>0          </td><td>0          </td><td>0.222714142</td><td>0.238455482</td><td>0          </td><td>0          </td></tr>\n",
       "</tbody>\n",
       "</table>\n"
      ],
      "text/latex": [
       "\\begin{tabular}{r|lllllllll}\n",
       " label & payment\\_mean & join\\_num & enter\\_skilled\\_wk\\_mean & clear\\_skilled\\_wk\\_mean & enter\\_inzone\\_sum & clear\\_inzone\\_sum & enter\\_raid\\_sum & clear\\_raid\\_sum\\\\\n",
       "\\hline\n",
       "\t week        & 0.0000000   & 0           & 0           & 0           & 0.009677419 & 0.011695906 & 0           & 0          \\\\\n",
       "\t week        & 0.0000000   & 0           & 0           & 0           & 0.425990283 & 0.413722295 & 0           & 0          \\\\\n",
       "\t week        & 0.0000000   & 0           & 0           & 0           & 0.004838710 & 0.005847953 & 0           & 0          \\\\\n",
       "\t week        & 0.1644737   & 0           & 0           & 0           & 0.000000000 & 0.000000000 & 0           & 0          \\\\\n",
       "\t week        & 0.0000000   & 0           & 0           & 0           & 0.095717162 & 0.105994069 & 0           & 0          \\\\\n",
       "\t week        & 0.0000000   & 0           & 0           & 0           & 0.222714142 & 0.238455482 & 0           & 0          \\\\\n",
       "\\end{tabular}\n"
      ],
      "text/markdown": [
       "\n",
       "label | payment_mean | join_num | enter_skilled_wk_mean | clear_skilled_wk_mean | enter_inzone_sum | clear_inzone_sum | enter_raid_sum | clear_raid_sum | \n",
       "|---|---|---|---|---|---|\n",
       "| week        | 0.0000000   | 0           | 0           | 0           | 0.009677419 | 0.011695906 | 0           | 0           | \n",
       "| week        | 0.0000000   | 0           | 0           | 0           | 0.425990283 | 0.413722295 | 0           | 0           | \n",
       "| week        | 0.0000000   | 0           | 0           | 0           | 0.004838710 | 0.005847953 | 0           | 0           | \n",
       "| week        | 0.1644737   | 0           | 0           | 0           | 0.000000000 | 0.000000000 | 0           | 0           | \n",
       "| week        | 0.0000000   | 0           | 0           | 0           | 0.095717162 | 0.105994069 | 0           | 0           | \n",
       "| week        | 0.0000000   | 0           | 0           | 0           | 0.222714142 | 0.238455482 | 0           | 0           | \n",
       "\n",
       "\n"
      ],
      "text/plain": [
       "  label payment_mean join_num enter_skilled_wk_mean clear_skilled_wk_mean\n",
       "1 week  0.0000000    0        0                     0                    \n",
       "2 week  0.0000000    0        0                     0                    \n",
       "3 week  0.0000000    0        0                     0                    \n",
       "4 week  0.1644737    0        0                     0                    \n",
       "5 week  0.0000000    0        0                     0                    \n",
       "6 week  0.0000000    0        0                     0                    \n",
       "  enter_inzone_sum clear_inzone_sum enter_raid_sum clear_raid_sum\n",
       "1 0.009677419      0.011695906      0              0             \n",
       "2 0.425990283      0.413722295      0              0             \n",
       "3 0.004838710      0.005847953      0              0             \n",
       "4 0.000000000      0.000000000      0              0             \n",
       "5 0.095717162      0.105994069      0              0             \n",
       "6 0.222714142      0.238455482      0              0             "
      ]
     },
     "metadata": {},
     "output_type": "display_data"
    }
   ],
   "source": [
    "game_dungeon <- label %>%\n",
    "  left_join(pay, by = \"acc_id\") %>%\n",
    "  left_join(guild_join, by = \"acc_id\") %>% \n",
    "  mutate(join_num = ifelse(is.na(join_num), 0, join_num)) %>%\n",
    "  left_join(dungeon, by = \"acc_id\") %>%\n",
    "  select(-acc_id)\n",
    "head(game_dungeon)"
   ]
  },
  {
   "cell_type": "markdown",
   "metadata": {},
   "source": [
    "# 4. Prediction"
   ]
  },
  {
   "cell_type": "markdown",
   "metadata": {},
   "source": [
    "## 4.1 Prediction by Merged"
   ]
  },
  {
   "cell_type": "code",
   "execution_count": 26,
   "metadata": {},
   "outputs": [],
   "source": [
    "game0_bin  <- predict_churn(game0, \"payment / guild\", binary = T) # Binary\n",
    "game0_mul  <- predict_churn(game0, \"payment / guild\", binary = F) # Multi\n",
    "\n",
    "game1_bin  <- predict_churn(game1, \"+ time\", binary = T) # Binary\n",
    "game1_mul  <- predict_churn(game1, \"+ time\", binary = F) # Multi\n",
    "\n",
    "game2_bin  <- predict_churn(game2, \"+ exp\", binary = T) # Binary\n",
    "game2_mul  <- predict_churn(game2, \"+ exp\", binary = F) # Multi\n",
    "\n",
    "game3_bin  <- predict_churn(game3, \"+ dungeon\", binary = T) # Binary\n",
    "game3_mul  <- predict_churn(game3, \"+ dungeon\", binary = F) # Multi"
   ]
  },
  {
   "cell_type": "markdown",
   "metadata": {},
   "source": [
    "## 4.2 Prediction by Seperated"
   ]
  },
  {
   "cell_type": "code",
   "execution_count": 41,
   "metadata": {},
   "outputs": [
    {
     "name": "stderr",
     "output_type": "stream",
     "text": [
      "Warning message:\n",
      "\"glm.fit: fitted probabilities numerically 0 or 1 occurred\""
     ]
    }
   ],
   "source": [
    "game_time_bin <- predict_churn(game_time, \"time\", binary = T)\n",
    "game_time_mul <- predict_churn(game_time, \"time\", binary = F)\n",
    "\n",
    "game_exp_bin <- predict_churn(game_exp, \"exp\", binary = T)\n",
    "game_exp_mul <- predict_churn(game_exp, \"exp\", binary = F)\n",
    "\n",
    "game_dungeon_bin <- predict_churn(game_dungeon, \"dungeon\", binary = T)\n",
    "game_dungeon_mul <- predict_churn(game_dungeon, \"dungeon\", binary = F)"
   ]
  },
  {
   "cell_type": "markdown",
   "metadata": {},
   "source": [
    "# 5. Result"
   ]
  },
  {
   "cell_type": "markdown",
   "metadata": {},
   "source": [
    "## 5.1 Merged Result"
   ]
  },
  {
   "cell_type": "code",
   "execution_count": 31,
   "metadata": {},
   "outputs": [],
   "source": [
    "result <- summarize_result(game0_bin) %>%\n",
    "  bind_rows(summarize_result(game0_mul)) %>%\n",
    "  bind_rows(summarize_result(game1_bin)) %>%\n",
    "  bind_rows(summarize_result(game1_mul)) %>%\n",
    "  bind_rows(summarize_result(game2_bin)) %>%\n",
    "  bind_rows(summarize_result(game2_mul)) %>%\n",
    "  bind_rows(summarize_result(game3_bin)) %>%\n",
    "  bind_rows(summarize_result(game3_mul)) %>%\n",
    "  mutate(method = factor(method, levels = c(\"logistic\", \"decision tree\", \"random forest\")))"
   ]
  },
  {
   "cell_type": "code",
   "execution_count": 34,
   "metadata": {},
   "outputs": [
    {
     "name": "stderr",
     "output_type": "stream",
     "text": [
      "Warning message:\n",
      "\"Removed 8 rows containing missing values (geom_bar).\"Warning message:\n",
      "\"Removed 8 rows containing missing values (geom_text).\""
     ]
    },
    {
     "data": {},
     "metadata": {},
     "output_type": "display_data"
    },
    {
     "data": {
      "image/png": "[encoded data removed]",
      "text/plain": [
       "plot without title"
      ]
     },
     "metadata": {},
     "output_type": "display_data"
    }
   ],
   "source": [
    "result %>% gather(key = \"measure\", value = \"value\", accuracy, F1) %>%\n",
    "  mutate(data = factor(data, levels = c(\"payment / guild\", \"+ time\", \"+ exp\", \"+ dungeon\"))) %>%\n",
    "  ggplot(aes(method, value, fill = data)) + \n",
    "  geom_bar(stat = \"identity\", position = \"dodge\") + \n",
    "  geom_text(aes(label = round(value, 2), y = value + 0.05), size = 3, position = position_dodge(width = 1)) + \n",
    "  facet_grid(measure ~ target) +\n",
    "  scale_fill_manual(name = \"data\", values = brewer.pal(4, \"Spectral\")) +\n",
    "  theme(axis.text.x = element_text(angle = 25, hjust = 1),\n",
    "        legend.position = \"top\")"
   ]
  },
  {
   "cell_type": "markdown",
   "metadata": {},
   "source": [
    "## 5.2 Seperated Result"
   ]
  },
  {
   "cell_type": "code",
   "execution_count": 42,
   "metadata": {},
   "outputs": [],
   "source": [
    "result2 <- summarize_result(game0_bin) %>%\n",
    "  bind_rows(summarize_result(game0_mul)) %>%\n",
    "  bind_rows(summarize_result(game_time_bin)) %>%\n",
    "  bind_rows(summarize_result(game_time_mul)) %>%\n",
    "  bind_rows(summarize_result(game_exp_bin)) %>%\n",
    "  bind_rows(summarize_result(game_exp_mul)) %>%\n",
    "  bind_rows(summarize_result(game_dungeon_bin)) %>%\n",
    "  bind_rows(summarize_result(game_dungeon_mul)) %>%\n",
    "  mutate(method = factor(method, levels = c(\"logistic\", \"decision tree\", \"random forest\")))"
   ]
  },
  {
   "cell_type": "code",
   "execution_count": 45,
   "metadata": {},
   "outputs": [
    {
     "name": "stderr",
     "output_type": "stream",
     "text": [
      "Warning message:\n",
      "\"Removed 8 rows containing missing values (geom_bar).\"Warning message:\n",
      "\"Removed 8 rows containing missing values (geom_text).\""
     ]
    },
    {
     "data": {},
     "metadata": {},
     "output_type": "display_data"
    },
    {
     "data": {
      "image/png": "[encoded data removed]",
      "text/plain": [
       "plot without title"
      ]
     },
     "metadata": {},
     "output_type": "display_data"
    }
   ],
   "source": [
    "result2 %>% gather(key = \"measure\", value = \"value\", accuracy, F1) %>%\n",
    "  mutate(data = factor(data, levels = c(\"payment / guild\", \"time\", \"exp\", \"dungeon\"))) %>%\n",
    "  ggplot(aes(method, value, fill = data)) + \n",
    "  geom_bar(stat = \"identity\", position = \"dodge\") + \n",
    "  geom_text(aes(label = round(value, 2), y = value + 0.05), size = 3, position = position_dodge(width = 1)) + \n",
    "  facet_grid(measure ~ target) +\n",
    "  scale_fill_manual(name = \"data\", values = brewer.pal(4, \"Spectral\")) +\n",
    "  theme(axis.text.x = element_text(angle = 25, hjust = 1),\n",
    "        legend.position = \"top\")"
   ]
  },
  {
   "cell_type": "markdown",
   "metadata": {},
   "source": [
    "# 6. Result Analysis"
   ]
  },
  {
   "cell_type": "markdown",
   "metadata": {},
   "source": [
    "## 6.1 Merged"
   ]
  },
  {
   "cell_type": "markdown",
   "metadata": {},
   "source": [
    "### 6.1.1 2-Class"
   ]
  },
  {
   "cell_type": "markdown",
   "metadata": {},
   "source": [
    "#### 6.1.1.1 Base"
   ]
  },
  {
   "cell_type": "code",
   "execution_count": 50,
   "metadata": {},
   "outputs": [
    {
     "data": {
      "text/plain": [
       "Confusion Matrix and Statistics\n",
       "\n",
       "          Reference\n",
       "Prediction     0     1\n",
       "         0  3172  1086\n",
       "         1  4328 21414\n",
       "                                          \n",
       "               Accuracy : 0.8195          \n",
       "                 95% CI : (0.8151, 0.8239)\n",
       "    No Information Rate : 0.75            \n",
       "    P-Value [Acc > NIR] : < 2.2e-16       \n",
       "                                          \n",
       "                  Kappa : 0.4377          \n",
       " Mcnemar's Test P-Value : < 2.2e-16       \n",
       "                                          \n",
       "            Sensitivity : 0.9517          \n",
       "            Specificity : 0.4229          \n",
       "         Pos Pred Value : 0.8319          \n",
       "         Neg Pred Value : 0.7450          \n",
       "              Precision : 0.8319          \n",
       "                 Recall : 0.9517          \n",
       "                     F1 : 0.8878          \n",
       "             Prevalence : 0.7500          \n",
       "         Detection Rate : 0.7138          \n",
       "   Detection Prevalence : 0.8581          \n",
       "      Balanced Accuracy : 0.6873          \n",
       "                                          \n",
       "       'Positive' Class : 1               \n",
       "                                          "
      ]
     },
     "metadata": {},
     "output_type": "display_data"
    }
   ],
   "source": [
    "game0_bin$randomforest"
   ]
  },
  {
   "cell_type": "code",
   "execution_count": 56,
   "metadata": {},
   "outputs": [
    {
     "data": {
      "text/html": [
       "<table>\n",
       "<thead><tr><th scope=col>Variable</th><th scope=col>Overall</th></tr></thead>\n",
       "<tbody>\n",
       "\t<tr><td>payment_mean</td><td>3420.580    </td></tr>\n",
       "\t<tr><td>join_num    </td><td>3035.783    </td></tr>\n",
       "</tbody>\n",
       "</table>\n"
      ],
      "text/latex": [
       "\\begin{tabular}{r|ll}\n",
       " Variable & Overall\\\\\n",
       "\\hline\n",
       "\t payment\\_mean & 3420.580      \\\\\n",
       "\t join\\_num     & 3035.783      \\\\\n",
       "\\end{tabular}\n"
      ],
      "text/markdown": [
       "\n",
       "Variable | Overall | \n",
       "|---|---|\n",
       "| payment_mean | 3420.580     | \n",
       "| join_num     | 3035.783     | \n",
       "\n",
       "\n"
      ],
      "text/plain": [
       "  Variable     Overall \n",
       "1 payment_mean 3420.580\n",
       "2 join_num     3035.783"
      ]
     },
     "metadata": {},
     "output_type": "display_data"
    },
    {
     "data": {
      "image/png": "[encoded data removed]",
      "text/plain": [
       "Plot with title \"game0_bin$rf.model\""
      ]
     },
     "metadata": {},
     "output_type": "display_data"
    }
   ],
   "source": [
    "varImp(game0_bin$rf.model) %>% mutate(Variable = row.names(.)) %>%\n",
    "  arrange(desc(Overall)) %>% select(Variable, Overall)\n",
    "varImpPlot(game0_bin$rf.model)"
   ]
  },
  {
   "cell_type": "markdown",
   "metadata": {},
   "source": [
    "#### 6.1.1.2 With Time"
   ]
  },
  {
   "cell_type": "code",
   "execution_count": 72,
   "metadata": {},
   "outputs": [
    {
     "data": {
      "text/plain": [
       "Confusion Matrix and Statistics\n",
       "\n",
       "          Reference\n",
       "Prediction     0     1\n",
       "         0  4340  1111\n",
       "         1  3160 21389\n",
       "                                          \n",
       "               Accuracy : 0.8576          \n",
       "                 95% CI : (0.8536, 0.8616)\n",
       "    No Information Rate : 0.75            \n",
       "    P-Value [Acc > NIR] : < 2.2e-16       \n",
       "                                          \n",
       "                  Kappa : 0.5823          \n",
       " Mcnemar's Test P-Value : < 2.2e-16       \n",
       "                                          \n",
       "            Sensitivity : 0.9506          \n",
       "            Specificity : 0.5787          \n",
       "         Pos Pred Value : 0.8713          \n",
       "         Neg Pred Value : 0.7962          \n",
       "              Precision : 0.8713          \n",
       "                 Recall : 0.9506          \n",
       "                     F1 : 0.9092          \n",
       "             Prevalence : 0.7500          \n",
       "         Detection Rate : 0.7130          \n",
       "   Detection Prevalence : 0.8183          \n",
       "      Balanced Accuracy : 0.7646          \n",
       "                                          \n",
       "       'Positive' Class : 1               \n",
       "                                          "
      ]
     },
     "metadata": {},
     "output_type": "display_data"
    }
   ],
   "source": [
    "game1_bin$randomforest"
   ]
  },
  {
   "cell_type": "code",
   "execution_count": 73,
   "metadata": {},
   "outputs": [
    {
     "data": {
      "text/html": [
       "<table>\n",
       "<thead><tr><th scope=col>Variable</th><th scope=col>Overall</th></tr></thead>\n",
       "<tbody>\n",
       "\t<tr><td>wk_num      </td><td>4013.720    </td></tr>\n",
       "\t<tr><td>time_sum    </td><td>3649.168    </td></tr>\n",
       "\t<tr><td>join_num    </td><td>2608.079    </td></tr>\n",
       "\t<tr><td>acc_num     </td><td>2481.747    </td></tr>\n",
       "\t<tr><td>payment_mean</td><td>2246.866    </td></tr>\n",
       "</tbody>\n",
       "</table>\n"
      ],
      "text/latex": [
       "\\begin{tabular}{r|ll}\n",
       " Variable & Overall\\\\\n",
       "\\hline\n",
       "\t wk\\_num       & 4013.720      \\\\\n",
       "\t time\\_sum     & 3649.168      \\\\\n",
       "\t join\\_num     & 2608.079      \\\\\n",
       "\t acc\\_num      & 2481.747      \\\\\n",
       "\t payment\\_mean & 2246.866      \\\\\n",
       "\\end{tabular}\n"
      ],
      "text/markdown": [
       "\n",
       "Variable | Overall | \n",
       "|---|---|---|---|---|\n",
       "| wk_num       | 4013.720     | \n",
       "| time_sum     | 3649.168     | \n",
       "| join_num     | 2608.079     | \n",
       "| acc_num      | 2481.747     | \n",
       "| payment_mean | 2246.866     | \n",
       "\n",
       "\n"
      ],
      "text/plain": [
       "  Variable     Overall \n",
       "1 wk_num       4013.720\n",
       "2 time_sum     3649.168\n",
       "3 join_num     2608.079\n",
       "4 acc_num      2481.747\n",
       "5 payment_mean 2246.866"
      ]
     },
     "metadata": {},
     "output_type": "display_data"
    },
    {
     "data": {
      "image/png": "[encoded data removed]",
      "text/plain": [
       "Plot with title \"game1_bin$rf.model\""
      ]
     },
     "metadata": {},
     "output_type": "display_data"
    }
   ],
   "source": [
    "varImp(game1_bin$rf.model) %>% mutate(Variable = row.names(.)) %>%\n",
    "  arrange(desc(Overall)) %>% select(Variable, Overall)\n",
    "varImpPlot(game1_bin$rf.model)"
   ]
  },
  {
   "cell_type": "markdown",
   "metadata": {},
   "source": [
    "#### 6.1.1.3 With EXP"
   ]
  },
  {
   "cell_type": "code",
   "execution_count": 74,
   "metadata": {},
   "outputs": [
    {
     "data": {
      "text/plain": [
       "Confusion Matrix and Statistics\n",
       "\n",
       "          Reference\n",
       "Prediction     0     1\n",
       "         0  5186  1147\n",
       "         1  2314 21353\n",
       "                                         \n",
       "               Accuracy : 0.8846         \n",
       "                 95% CI : (0.881, 0.8882)\n",
       "    No Information Rate : 0.75           \n",
       "    P-Value [Acc > NIR] : < 2.2e-16      \n",
       "                                         \n",
       "                  Kappa : 0.6755         \n",
       " Mcnemar's Test P-Value : < 2.2e-16      \n",
       "                                         \n",
       "            Sensitivity : 0.9490         \n",
       "            Specificity : 0.6915         \n",
       "         Pos Pred Value : 0.9022         \n",
       "         Neg Pred Value : 0.8189         \n",
       "              Precision : 0.9022         \n",
       "                 Recall : 0.9490         \n",
       "                     F1 : 0.9250         \n",
       "             Prevalence : 0.7500         \n",
       "         Detection Rate : 0.7118         \n",
       "   Detection Prevalence : 0.7889         \n",
       "      Balanced Accuracy : 0.8202         \n",
       "                                         \n",
       "       'Positive' Class : 1              \n",
       "                                         "
      ]
     },
     "metadata": {},
     "output_type": "display_data"
    }
   ],
   "source": [
    "game2_bin$randomforest"
   ]
  },
  {
   "cell_type": "code",
   "execution_count": 75,
   "metadata": {},
   "outputs": [
    {
     "data": {
      "text/html": [
       "<table>\n",
       "<thead><tr><th scope=col>Variable</th><th scope=col>Overall</th></tr></thead>\n",
       "<tbody>\n",
       "\t<tr><td>item_hongmun_sum </td><td>3883.111         </td></tr>\n",
       "\t<tr><td>wk_num           </td><td>2851.469         </td></tr>\n",
       "\t<tr><td>time_sum         </td><td>2675.833         </td></tr>\n",
       "\t<tr><td>acc_num          </td><td>2570.642         </td></tr>\n",
       "\t<tr><td>quest_hongmun_sum</td><td>2050.251         </td></tr>\n",
       "\t<tr><td>npc_hongmun_sum  </td><td>1937.755         </td></tr>\n",
       "\t<tr><td>join_num         </td><td>1609.738         </td></tr>\n",
       "\t<tr><td>payment_mean     </td><td>1557.005         </td></tr>\n",
       "</tbody>\n",
       "</table>\n"
      ],
      "text/latex": [
       "\\begin{tabular}{r|ll}\n",
       " Variable & Overall\\\\\n",
       "\\hline\n",
       "\t item\\_hongmun\\_sum  & 3883.111             \\\\\n",
       "\t wk\\_num            & 2851.469           \\\\\n",
       "\t time\\_sum          & 2675.833           \\\\\n",
       "\t acc\\_num           & 2570.642           \\\\\n",
       "\t quest\\_hongmun\\_sum & 2050.251             \\\\\n",
       "\t npc\\_hongmun\\_sum   & 1937.755             \\\\\n",
       "\t join\\_num          & 1609.738           \\\\\n",
       "\t payment\\_mean      & 1557.005           \\\\\n",
       "\\end{tabular}\n"
      ],
      "text/markdown": [
       "\n",
       "Variable | Overall | \n",
       "|---|---|---|---|---|---|---|---|\n",
       "| item_hongmun_sum  | 3883.111          | \n",
       "| wk_num            | 2851.469          | \n",
       "| time_sum          | 2675.833          | \n",
       "| acc_num           | 2570.642          | \n",
       "| quest_hongmun_sum | 2050.251          | \n",
       "| npc_hongmun_sum   | 1937.755          | \n",
       "| join_num          | 1609.738          | \n",
       "| payment_mean      | 1557.005          | \n",
       "\n",
       "\n"
      ],
      "text/plain": [
       "  Variable          Overall \n",
       "1 item_hongmun_sum  3883.111\n",
       "2 wk_num            2851.469\n",
       "3 time_sum          2675.833\n",
       "4 acc_num           2570.642\n",
       "5 quest_hongmun_sum 2050.251\n",
       "6 npc_hongmun_sum   1937.755\n",
       "7 join_num          1609.738\n",
       "8 payment_mean      1557.005"
      ]
     },
     "metadata": {},
     "output_type": "display_data"
    },
    {
     "data": {
      "image/png": "[encoded data removed]",
      "text/plain": [
       "Plot with title \"game2_bin$rf.model\""
      ]
     },
     "metadata": {},
     "output_type": "display_data"
    }
   ],
   "source": [
    "varImp(game2_bin$rf.model) %>% mutate(Variable = row.names(.)) %>%\n",
    "  arrange(desc(Overall)) %>% select(Variable, Overall)\n",
    "varImpPlot(game2_bin$rf.model)"
   ]
  },
  {
   "cell_type": "markdown",
   "metadata": {},
   "source": [
    "#### 6.1.1.4 With Dungeon"
   ]
  },
  {
   "cell_type": "code",
   "execution_count": 76,
   "metadata": {},
   "outputs": [
    {
     "data": {
      "text/plain": [
       "Confusion Matrix and Statistics\n",
       "\n",
       "          Reference\n",
       "Prediction     0     1\n",
       "         0  5264  1117\n",
       "         1  2236 21383\n",
       "                                          \n",
       "               Accuracy : 0.8882          \n",
       "                 95% CI : (0.8846, 0.8918)\n",
       "    No Information Rate : 0.75            \n",
       "    P-Value [Acc > NIR] : < 2.2e-16       \n",
       "                                          \n",
       "                  Kappa : 0.6864          \n",
       " Mcnemar's Test P-Value : < 2.2e-16       \n",
       "                                          \n",
       "            Sensitivity : 0.9504          \n",
       "            Specificity : 0.7019          \n",
       "         Pos Pred Value : 0.9053          \n",
       "         Neg Pred Value : 0.8249          \n",
       "              Precision : 0.9053          \n",
       "                 Recall : 0.9504          \n",
       "                     F1 : 0.9273          \n",
       "             Prevalence : 0.7500          \n",
       "         Detection Rate : 0.7128          \n",
       "   Detection Prevalence : 0.7873          \n",
       "      Balanced Accuracy : 0.8261          \n",
       "                                          \n",
       "       'Positive' Class : 1               \n",
       "                                          "
      ]
     },
     "metadata": {},
     "output_type": "display_data"
    }
   ],
   "source": [
    "game3_bin$randomforest"
   ]
  },
  {
   "cell_type": "code",
   "execution_count": 77,
   "metadata": {},
   "outputs": [
    {
     "data": {
      "text/html": [
       "<table>\n",
       "<thead><tr><th scope=col>Variable</th><th scope=col>Overall</th></tr></thead>\n",
       "<tbody>\n",
       "\t<tr><td>item_hongmun_sum     </td><td>2606.8523            </td></tr>\n",
       "\t<tr><td>wk_num               </td><td>2308.4956            </td></tr>\n",
       "\t<tr><td>time_sum             </td><td>1987.9680            </td></tr>\n",
       "\t<tr><td>acc_num              </td><td>1942.1966            </td></tr>\n",
       "\t<tr><td>clear_raid_sum       </td><td>1939.3576            </td></tr>\n",
       "\t<tr><td>enter_raid_sum       </td><td>1530.5693            </td></tr>\n",
       "\t<tr><td>quest_hongmun_sum    </td><td>1461.8366            </td></tr>\n",
       "\t<tr><td>npc_hongmun_sum      </td><td>1251.9896            </td></tr>\n",
       "\t<tr><td>join_num             </td><td>1027.4044            </td></tr>\n",
       "\t<tr><td>clear_inzone_sum     </td><td>1000.5432            </td></tr>\n",
       "\t<tr><td>enter_inzone_sum     </td><td> 974.0796            </td></tr>\n",
       "\t<tr><td>payment_mean         </td><td> 744.8444            </td></tr>\n",
       "\t<tr><td>clear_skilled_wk_mean</td><td> 378.3208            </td></tr>\n",
       "\t<tr><td>enter_skilled_wk_mean</td><td> 313.2940            </td></tr>\n",
       "</tbody>\n",
       "</table>\n"
      ],
      "text/latex": [
       "\\begin{tabular}{r|ll}\n",
       " Variable & Overall\\\\\n",
       "\\hline\n",
       "\t item\\_hongmun\\_sum      & 2606.8523                \\\\\n",
       "\t wk\\_num                & 2308.4956              \\\\\n",
       "\t time\\_sum              & 1987.9680              \\\\\n",
       "\t acc\\_num               & 1942.1966              \\\\\n",
       "\t clear\\_raid\\_sum        & 1939.3576                \\\\\n",
       "\t enter\\_raid\\_sum        & 1530.5693                \\\\\n",
       "\t quest\\_hongmun\\_sum     & 1461.8366                \\\\\n",
       "\t npc\\_hongmun\\_sum       & 1251.9896                \\\\\n",
       "\t join\\_num              & 1027.4044              \\\\\n",
       "\t clear\\_inzone\\_sum      & 1000.5432                \\\\\n",
       "\t enter\\_inzone\\_sum      &  974.0796                \\\\\n",
       "\t payment\\_mean          &  744.8444              \\\\\n",
       "\t clear\\_skilled\\_wk\\_mean &  378.3208                  \\\\\n",
       "\t enter\\_skilled\\_wk\\_mean &  313.2940                  \\\\\n",
       "\\end{tabular}\n"
      ],
      "text/markdown": [
       "\n",
       "Variable | Overall | \n",
       "|---|---|---|---|---|---|---|---|---|---|---|---|---|---|\n",
       "| item_hongmun_sum      | 2606.8523             | \n",
       "| wk_num                | 2308.4956             | \n",
       "| time_sum              | 1987.9680             | \n",
       "| acc_num               | 1942.1966             | \n",
       "| clear_raid_sum        | 1939.3576             | \n",
       "| enter_raid_sum        | 1530.5693             | \n",
       "| quest_hongmun_sum     | 1461.8366             | \n",
       "| npc_hongmun_sum       | 1251.9896             | \n",
       "| join_num              | 1027.4044             | \n",
       "| clear_inzone_sum      | 1000.5432             | \n",
       "| enter_inzone_sum      |  974.0796             | \n",
       "| payment_mean          |  744.8444             | \n",
       "| clear_skilled_wk_mean |  378.3208             | \n",
       "| enter_skilled_wk_mean |  313.2940             | \n",
       "\n",
       "\n"
      ],
      "text/plain": [
       "   Variable              Overall  \n",
       "1  item_hongmun_sum      2606.8523\n",
       "2  wk_num                2308.4956\n",
       "3  time_sum              1987.9680\n",
       "4  acc_num               1942.1966\n",
       "5  clear_raid_sum        1939.3576\n",
       "6  enter_raid_sum        1530.5693\n",
       "7  quest_hongmun_sum     1461.8366\n",
       "8  npc_hongmun_sum       1251.9896\n",
       "9  join_num              1027.4044\n",
       "10 clear_inzone_sum      1000.5432\n",
       "11 enter_inzone_sum       974.0796\n",
       "12 payment_mean           744.8444\n",
       "13 clear_skilled_wk_mean  378.3208\n",
       "14 enter_skilled_wk_mean  313.2940"
      ]
     },
     "metadata": {},
     "output_type": "display_data"
    },
    {
     "data": {
      "image/png": "[encoded data removed]",
      "text/plain": [
       "Plot with title \"game3_bin$rf.model\""
      ]
     },
     "metadata": {},
     "output_type": "display_data"
    }
   ],
   "source": [
    "varImp(game3_bin$rf.model) %>% mutate(Variable = row.names(.)) %>%\n",
    "  arrange(desc(Overall)) %>% select(Variable, Overall)\n",
    "varImpPlot(game3_bin$rf.model)"
   ]
  },
  {
   "cell_type": "markdown",
   "metadata": {},
   "source": [
    "### 6.1.2 4-Class"
   ]
  },
  {
   "cell_type": "markdown",
   "metadata": {},
   "source": [
    "#### 6.1.2.1 Base"
   ]
  },
  {
   "cell_type": "code",
   "execution_count": 47,
   "metadata": {},
   "outputs": [
    {
     "data": {
      "text/plain": [
       "Confusion Matrix and Statistics\n",
       "\n",
       "          Reference\n",
       "Prediction 2month month retained week\n",
       "  2month        0     1        6    0\n",
       "  month      6865  7018     3682 6861\n",
       "  retained    634   481     3809  639\n",
       "  week          1     0        3    0\n",
       "\n",
       "Overall Statistics\n",
       "                                          \n",
       "               Accuracy : 0.3609          \n",
       "                 95% CI : (0.3555, 0.3664)\n",
       "    No Information Rate : 0.25            \n",
       "    P-Value [Acc > NIR] : < 2.2e-16       \n",
       "                                          \n",
       "                  Kappa : 0.1479          \n",
       " Mcnemar's Test P-Value : < 2.2e-16       \n",
       "\n",
       "Statistics by Class:\n",
       "\n",
       "                     Class: 2month Class: month Class: retained Class: week\n",
       "Sensitivity              0.0000000       0.9357          0.5079   0.0000000\n",
       "Specificity              0.9996889       0.2263          0.9220   0.9998222\n",
       "Pos Pred Value           0.0000000       0.2873          0.6847   0.0000000\n",
       "Neg Pred Value           0.7499417       0.9135          0.8490   0.7499667\n",
       "Precision                0.0000000       0.2873          0.6847   0.0000000\n",
       "Recall                   0.0000000       0.9357          0.5079   0.0000000\n",
       "F1                             NaN       0.4396          0.5832         NaN\n",
       "Prevalence               0.2500000       0.2500          0.2500   0.2500000\n",
       "Detection Rate           0.0000000       0.2339          0.1270   0.0000000\n",
       "Detection Prevalence     0.0002333       0.8142          0.1854   0.0001333\n",
       "Balanced Accuracy        0.4998444       0.5810          0.7150   0.4999111"
      ]
     },
     "metadata": {},
     "output_type": "display_data"
    }
   ],
   "source": [
    "game0_mul$randomforest"
   ]
  },
  {
   "cell_type": "code",
   "execution_count": 64,
   "metadata": {},
   "outputs": [
    {
     "data": {
      "text/html": [
       "<table>\n",
       "<thead><tr><th scope=col>Variable</th><th scope=col>Overall</th></tr></thead>\n",
       "<tbody>\n",
       "\t<tr><td>join_num    </td><td>2205.640    </td></tr>\n",
       "\t<tr><td>payment_mean</td><td>2108.593    </td></tr>\n",
       "</tbody>\n",
       "</table>\n"
      ],
      "text/latex": [
       "\\begin{tabular}{r|ll}\n",
       " Variable & Overall\\\\\n",
       "\\hline\n",
       "\t join\\_num     & 2205.640      \\\\\n",
       "\t payment\\_mean & 2108.593      \\\\\n",
       "\\end{tabular}\n"
      ],
      "text/markdown": [
       "\n",
       "Variable | Overall | \n",
       "|---|---|\n",
       "| join_num     | 2205.640     | \n",
       "| payment_mean | 2108.593     | \n",
       "\n",
       "\n"
      ],
      "text/plain": [
       "  Variable     Overall \n",
       "1 join_num     2205.640\n",
       "2 payment_mean 2108.593"
      ]
     },
     "metadata": {},
     "output_type": "display_data"
    },
    {
     "data": {
      "image/png": "[encoded data removed]",
      "text/plain": [
       "Plot with title \"game0_mul$rf.model\""
      ]
     },
     "metadata": {},
     "output_type": "display_data"
    }
   ],
   "source": [
    "varImp(game0_mul$rf.model) %>% mutate(Variable = row.names(.)) %>%\n",
    "  arrange(desc(Overall)) %>% select(Variable, Overall)\n",
    "varImpPlot(game0_mul$rf.model)"
   ]
  },
  {
   "cell_type": "markdown",
   "metadata": {},
   "source": [
    "#### 6.1.2.2 With Time"
   ]
  },
  {
   "cell_type": "code",
   "execution_count": 78,
   "metadata": {},
   "outputs": [
    {
     "data": {
      "text/plain": [
       "Confusion Matrix and Statistics\n",
       "\n",
       "          Reference\n",
       "Prediction 2month month retained week\n",
       "  2month     4831  2631     1221   86\n",
       "  month      1167  2872      351  600\n",
       "  retained    994   787     5381  339\n",
       "  week        508  1210      547 6475\n",
       "\n",
       "Overall Statistics\n",
       "                                          \n",
       "               Accuracy : 0.652           \n",
       "                 95% CI : (0.6465, 0.6574)\n",
       "    No Information Rate : 0.25            \n",
       "    P-Value [Acc > NIR] : < 2.2e-16       \n",
       "                                          \n",
       "                  Kappa : 0.536           \n",
       " Mcnemar's Test P-Value : < 2.2e-16       \n",
       "\n",
       "Statistics by Class:\n",
       "\n",
       "                     Class: 2month Class: month Class: retained Class: week\n",
       "Sensitivity                 0.6441      0.38293          0.7175      0.8633\n",
       "Specificity                 0.8250      0.90587          0.9058      0.8993\n",
       "Pos Pred Value              0.5509      0.57555          0.7174      0.7408\n",
       "Neg Pred Value              0.8743      0.81495          0.9058      0.9518\n",
       "Precision                   0.5509      0.57555          0.7174      0.7408\n",
       "Recall                      0.6441      0.38293          0.7175      0.8633\n",
       "F1                          0.5939      0.45989          0.7174      0.7974\n",
       "Prevalence                  0.2500      0.25000          0.2500      0.2500\n",
       "Detection Rate              0.1610      0.09573          0.1794      0.2158\n",
       "Detection Prevalence        0.2923      0.16633          0.2500      0.2913\n",
       "Balanced Accuracy           0.7346      0.64440          0.8116      0.8813"
      ]
     },
     "metadata": {},
     "output_type": "display_data"
    }
   ],
   "source": [
    "game1_mul$randomforest"
   ]
  },
  {
   "cell_type": "code",
   "execution_count": 79,
   "metadata": {},
   "outputs": [
    {
     "data": {
      "text/html": [
       "<table>\n",
       "<thead><tr><th scope=col>Variable</th><th scope=col>Overall</th></tr></thead>\n",
       "<tbody>\n",
       "\t<tr><td>time_sum    </td><td>11062.962   </td></tr>\n",
       "\t<tr><td>acc_num     </td><td> 5215.406   </td></tr>\n",
       "\t<tr><td>wk_num      </td><td> 3958.040   </td></tr>\n",
       "\t<tr><td>join_num    </td><td> 2380.788   </td></tr>\n",
       "\t<tr><td>payment_mean</td><td> 1729.731   </td></tr>\n",
       "</tbody>\n",
       "</table>\n"
      ],
      "text/latex": [
       "\\begin{tabular}{r|ll}\n",
       " Variable & Overall\\\\\n",
       "\\hline\n",
       "\t time\\_sum     & 11062.962     \\\\\n",
       "\t acc\\_num      &  5215.406     \\\\\n",
       "\t wk\\_num       &  3958.040     \\\\\n",
       "\t join\\_num     &  2380.788     \\\\\n",
       "\t payment\\_mean &  1729.731     \\\\\n",
       "\\end{tabular}\n"
      ],
      "text/markdown": [
       "\n",
       "Variable | Overall | \n",
       "|---|---|---|---|---|\n",
       "| time_sum     | 11062.962    | \n",
       "| acc_num      |  5215.406    | \n",
       "| wk_num       |  3958.040    | \n",
       "| join_num     |  2380.788    | \n",
       "| payment_mean |  1729.731    | \n",
       "\n",
       "\n"
      ],
      "text/plain": [
       "  Variable     Overall  \n",
       "1 time_sum     11062.962\n",
       "2 acc_num       5215.406\n",
       "3 wk_num        3958.040\n",
       "4 join_num      2380.788\n",
       "5 payment_mean  1729.731"
      ]
     },
     "metadata": {},
     "output_type": "display_data"
    },
    {
     "data": {
      "image/png": "[encoded data removed]",
      "text/plain": [
       "Plot with title \"game1_mul$rf.model\""
      ]
     },
     "metadata": {},
     "output_type": "display_data"
    }
   ],
   "source": [
    "varImp(game1_mul$rf.model) %>% mutate(Variable = row.names(.)) %>%\n",
    "  arrange(desc(Overall)) %>% select(Variable, Overall)\n",
    "varImpPlot(game1_mul$rf.model)"
   ]
  },
  {
   "cell_type": "markdown",
   "metadata": {},
   "source": [
    "#### 6.1.2.3 With EXP"
   ]
  },
  {
   "cell_type": "code",
   "execution_count": 80,
   "metadata": {},
   "outputs": [
    {
     "data": {
      "text/plain": [
       "Confusion Matrix and Statistics\n",
       "\n",
       "          Reference\n",
       "Prediction 2month month retained week\n",
       "  2month     5912  3479     1272  127\n",
       "  month       278  2510      148  453\n",
       "  retained    913   586     5768  427\n",
       "  week        397   925      312 6493\n",
       "\n",
       "Overall Statistics\n",
       "                                          \n",
       "               Accuracy : 0.6894          \n",
       "                 95% CI : (0.6842, 0.6947)\n",
       "    No Information Rate : 0.25            \n",
       "    P-Value [Acc > NIR] : < 2.2e-16       \n",
       "                                          \n",
       "                  Kappa : 0.5859          \n",
       " Mcnemar's Test P-Value : < 2.2e-16       \n",
       "\n",
       "Statistics by Class:\n",
       "\n",
       "                     Class: 2month Class: month Class: retained Class: week\n",
       "Sensitivity                 0.7883      0.33467          0.7691      0.8657\n",
       "Specificity                 0.7832      0.96093          0.9144      0.9274\n",
       "Pos Pred Value              0.5479      0.74063          0.7497      0.7989\n",
       "Neg Pred Value              0.9173      0.81248          0.9224      0.9540\n",
       "Precision                   0.5479      0.74063          0.7497      0.7989\n",
       "Recall                      0.7883      0.33467          0.7691      0.8657\n",
       "F1                          0.6465      0.46102          0.7592      0.8310\n",
       "Prevalence                  0.2500      0.25000          0.2500      0.2500\n",
       "Detection Rate              0.1971      0.08367          0.1923      0.2164\n",
       "Detection Prevalence        0.3597      0.11297          0.2565      0.2709\n",
       "Balanced Accuracy           0.7857      0.64780          0.8417      0.8966"
      ]
     },
     "metadata": {},
     "output_type": "display_data"
    }
   ],
   "source": [
    "game2_mul$randomforest"
   ]
  },
  {
   "cell_type": "code",
   "execution_count": 81,
   "metadata": {},
   "outputs": [
    {
     "data": {
      "text/html": [
       "<table>\n",
       "<thead><tr><th scope=col>Variable</th><th scope=col>Overall</th></tr></thead>\n",
       "<tbody>\n",
       "\t<tr><td>time_sum         </td><td>6588.266         </td></tr>\n",
       "\t<tr><td>item_hongmun_sum </td><td>5139.660         </td></tr>\n",
       "\t<tr><td>acc_num          </td><td>4638.137         </td></tr>\n",
       "\t<tr><td>npc_hongmun_sum  </td><td>4607.756         </td></tr>\n",
       "\t<tr><td>quest_hongmun_sum</td><td>4600.204         </td></tr>\n",
       "\t<tr><td>wk_num           </td><td>3387.126         </td></tr>\n",
       "\t<tr><td>join_num         </td><td>1537.721         </td></tr>\n",
       "\t<tr><td>payment_mean     </td><td>1183.290         </td></tr>\n",
       "</tbody>\n",
       "</table>\n"
      ],
      "text/latex": [
       "\\begin{tabular}{r|ll}\n",
       " Variable & Overall\\\\\n",
       "\\hline\n",
       "\t time\\_sum          & 6588.266           \\\\\n",
       "\t item\\_hongmun\\_sum  & 5139.660             \\\\\n",
       "\t acc\\_num           & 4638.137           \\\\\n",
       "\t npc\\_hongmun\\_sum   & 4607.756             \\\\\n",
       "\t quest\\_hongmun\\_sum & 4600.204             \\\\\n",
       "\t wk\\_num            & 3387.126           \\\\\n",
       "\t join\\_num          & 1537.721           \\\\\n",
       "\t payment\\_mean      & 1183.290           \\\\\n",
       "\\end{tabular}\n"
      ],
      "text/markdown": [
       "\n",
       "Variable | Overall | \n",
       "|---|---|---|---|---|---|---|---|\n",
       "| time_sum          | 6588.266          | \n",
       "| item_hongmun_sum  | 5139.660          | \n",
       "| acc_num           | 4638.137          | \n",
       "| npc_hongmun_sum   | 4607.756          | \n",
       "| quest_hongmun_sum | 4600.204          | \n",
       "| wk_num            | 3387.126          | \n",
       "| join_num          | 1537.721          | \n",
       "| payment_mean      | 1183.290          | \n",
       "\n",
       "\n"
      ],
      "text/plain": [
       "  Variable          Overall \n",
       "1 time_sum          6588.266\n",
       "2 item_hongmun_sum  5139.660\n",
       "3 acc_num           4638.137\n",
       "4 npc_hongmun_sum   4607.756\n",
       "5 quest_hongmun_sum 4600.204\n",
       "6 wk_num            3387.126\n",
       "7 join_num          1537.721\n",
       "8 payment_mean      1183.290"
      ]
     },
     "metadata": {},
     "output_type": "display_data"
    },
    {
     "data": {
      "image/png": "[encoded data removed]",
      "text/plain": [
       "Plot with title \"game2_mul$rf.model\""
      ]
     },
     "metadata": {},
     "output_type": "display_data"
    }
   ],
   "source": [
    "varImp(game2_mul$rf.model) %>% mutate(Variable = row.names(.)) %>%\n",
    "  arrange(desc(Overall)) %>% select(Variable, Overall)\n",
    "varImpPlot(game2_mul$rf.model)"
   ]
  },
  {
   "cell_type": "markdown",
   "metadata": {},
   "source": [
    "#### 6.1.2.4 With Dungeon"
   ]
  },
  {
   "cell_type": "code",
   "execution_count": 82,
   "metadata": {},
   "outputs": [
    {
     "data": {
      "text/plain": [
       "Confusion Matrix and Statistics\n",
       "\n",
       "          Reference\n",
       "Prediction 2month month retained week\n",
       "  2month     6167  3576     1503  176\n",
       "  month       244  2578      116  485\n",
       "  retained    761   501     5575  366\n",
       "  week        328   845      306 6473\n",
       "\n",
       "Overall Statistics\n",
       "                                          \n",
       "               Accuracy : 0.6931          \n",
       "                 95% CI : (0.6878, 0.6983)\n",
       "    No Information Rate : 0.25            \n",
       "    P-Value [Acc > NIR] : < 2.2e-16       \n",
       "                                          \n",
       "                  Kappa : 0.5908          \n",
       " Mcnemar's Test P-Value : < 2.2e-16       \n",
       "\n",
       "Statistics by Class:\n",
       "\n",
       "                     Class: 2month Class: month Class: retained Class: week\n",
       "Sensitivity                 0.8223      0.34373          0.7433      0.8631\n",
       "Specificity                 0.7664      0.96244          0.9276      0.9343\n",
       "Pos Pred Value              0.5399      0.75314          0.7740      0.8140\n",
       "Neg Pred Value              0.9282      0.81480          0.9156      0.9534\n",
       "Precision                   0.5399      0.75314          0.7740      0.8140\n",
       "Recall                      0.8223      0.34373          0.7433      0.8631\n",
       "F1                          0.6518      0.47203          0.7583      0.8378\n",
       "Prevalence                  0.2500      0.25000          0.2500      0.2500\n",
       "Detection Rate              0.2056      0.08593          0.1858      0.2158\n",
       "Detection Prevalence        0.3807      0.11410          0.2401      0.2651\n",
       "Balanced Accuracy           0.7944      0.65309          0.8355      0.8987"
      ]
     },
     "metadata": {},
     "output_type": "display_data"
    }
   ],
   "source": [
    "game3_mul$randomforest"
   ]
  },
  {
   "cell_type": "code",
   "execution_count": 83,
   "metadata": {},
   "outputs": [
    {
     "data": {
      "text/html": [
       "<table>\n",
       "<thead><tr><th scope=col>Variable</th><th scope=col>Overall</th></tr></thead>\n",
       "<tbody>\n",
       "\t<tr><td>time_sum             </td><td>4982.1852            </td></tr>\n",
       "\t<tr><td>item_hongmun_sum     </td><td>3891.4921            </td></tr>\n",
       "\t<tr><td>acc_num              </td><td>3860.5484            </td></tr>\n",
       "\t<tr><td>quest_hongmun_sum    </td><td>3100.6145            </td></tr>\n",
       "\t<tr><td>npc_hongmun_sum      </td><td>3091.1474            </td></tr>\n",
       "\t<tr><td>enter_inzone_sum     </td><td>2681.7356            </td></tr>\n",
       "\t<tr><td>wk_num               </td><td>2680.7984            </td></tr>\n",
       "\t<tr><td>clear_inzone_sum     </td><td>2523.0671            </td></tr>\n",
       "\t<tr><td>clear_raid_sum       </td><td>1530.8897            </td></tr>\n",
       "\t<tr><td>enter_raid_sum       </td><td>1438.2127            </td></tr>\n",
       "\t<tr><td>join_num             </td><td> 804.2666            </td></tr>\n",
       "\t<tr><td>payment_mean         </td><td> 575.7734            </td></tr>\n",
       "\t<tr><td>enter_skilled_wk_mean</td><td> 204.5871            </td></tr>\n",
       "\t<tr><td>clear_skilled_wk_mean</td><td> 193.9042            </td></tr>\n",
       "</tbody>\n",
       "</table>\n"
      ],
      "text/latex": [
       "\\begin{tabular}{r|ll}\n",
       " Variable & Overall\\\\\n",
       "\\hline\n",
       "\t time\\_sum              & 4982.1852              \\\\\n",
       "\t item\\_hongmun\\_sum      & 3891.4921                \\\\\n",
       "\t acc\\_num               & 3860.5484              \\\\\n",
       "\t quest\\_hongmun\\_sum     & 3100.6145                \\\\\n",
       "\t npc\\_hongmun\\_sum       & 3091.1474                \\\\\n",
       "\t enter\\_inzone\\_sum      & 2681.7356                \\\\\n",
       "\t wk\\_num                & 2680.7984              \\\\\n",
       "\t clear\\_inzone\\_sum      & 2523.0671                \\\\\n",
       "\t clear\\_raid\\_sum        & 1530.8897                \\\\\n",
       "\t enter\\_raid\\_sum        & 1438.2127                \\\\\n",
       "\t join\\_num              &  804.2666              \\\\\n",
       "\t payment\\_mean          &  575.7734              \\\\\n",
       "\t enter\\_skilled\\_wk\\_mean &  204.5871                  \\\\\n",
       "\t clear\\_skilled\\_wk\\_mean &  193.9042                  \\\\\n",
       "\\end{tabular}\n"
      ],
      "text/markdown": [
       "\n",
       "Variable | Overall | \n",
       "|---|---|---|---|---|---|---|---|---|---|---|---|---|---|\n",
       "| time_sum              | 4982.1852             | \n",
       "| item_hongmun_sum      | 3891.4921             | \n",
       "| acc_num               | 3860.5484             | \n",
       "| quest_hongmun_sum     | 3100.6145             | \n",
       "| npc_hongmun_sum       | 3091.1474             | \n",
       "| enter_inzone_sum      | 2681.7356             | \n",
       "| wk_num                | 2680.7984             | \n",
       "| clear_inzone_sum      | 2523.0671             | \n",
       "| clear_raid_sum        | 1530.8897             | \n",
       "| enter_raid_sum        | 1438.2127             | \n",
       "| join_num              |  804.2666             | \n",
       "| payment_mean          |  575.7734             | \n",
       "| enter_skilled_wk_mean |  204.5871             | \n",
       "| clear_skilled_wk_mean |  193.9042             | \n",
       "\n",
       "\n"
      ],
      "text/plain": [
       "   Variable              Overall  \n",
       "1  time_sum              4982.1852\n",
       "2  item_hongmun_sum      3891.4921\n",
       "3  acc_num               3860.5484\n",
       "4  quest_hongmun_sum     3100.6145\n",
       "5  npc_hongmun_sum       3091.1474\n",
       "6  enter_inzone_sum      2681.7356\n",
       "7  wk_num                2680.7984\n",
       "8  clear_inzone_sum      2523.0671\n",
       "9  clear_raid_sum        1530.8897\n",
       "10 enter_raid_sum        1438.2127\n",
       "11 join_num               804.2666\n",
       "12 payment_mean           575.7734\n",
       "13 enter_skilled_wk_mean  204.5871\n",
       "14 clear_skilled_wk_mean  193.9042"
      ]
     },
     "metadata": {},
     "output_type": "display_data"
    },
    {
     "data": {
      "image/png": "[encoded data removed]",
      "text/plain": [
       "Plot with title \"game3_mul$rf.model\""
      ]
     },
     "metadata": {},
     "output_type": "display_data"
    }
   ],
   "source": [
    "varImp(game3_mul$rf.model) %>% mutate(Variable = row.names(.)) %>%\n",
    "  arrange(desc(Overall)) %>% select(Variable, Overall)\n",
    "varImpPlot(game3_mul$rf.model)"
   ]
  },
  {
   "cell_type": "markdown",
   "metadata": {},
   "source": [
    "## 6.2 Seperated"
   ]
  },
  {
   "cell_type": "markdown",
   "metadata": {},
   "source": [
    "### 6.2.1 2-Class"
   ]
  },
  {
   "cell_type": "markdown",
   "metadata": {},
   "source": [
    "#### 6.2.1.1 Time"
   ]
  },
  {
   "cell_type": "code",
   "execution_count": 57,
   "metadata": {},
   "outputs": [
    {
     "data": {
      "text/plain": [
       "Confusion Matrix and Statistics\n",
       "\n",
       "          Reference\n",
       "Prediction     0     1\n",
       "         0  4273  1020\n",
       "         1  3227 21480\n",
       "                                          \n",
       "               Accuracy : 0.8584          \n",
       "                 95% CI : (0.8544, 0.8624)\n",
       "    No Information Rate : 0.75            \n",
       "    P-Value [Acc > NIR] : < 2.2e-16       \n",
       "                                          \n",
       "                  Kappa : 0.5814          \n",
       " Mcnemar's Test P-Value : < 2.2e-16       \n",
       "                                          \n",
       "            Sensitivity : 0.9547          \n",
       "            Specificity : 0.5697          \n",
       "         Pos Pred Value : 0.8694          \n",
       "         Neg Pred Value : 0.8073          \n",
       "              Precision : 0.8694          \n",
       "                 Recall : 0.9547          \n",
       "                     F1 : 0.9100          \n",
       "             Prevalence : 0.7500          \n",
       "         Detection Rate : 0.7160          \n",
       "   Detection Prevalence : 0.8236          \n",
       "      Balanced Accuracy : 0.7622          \n",
       "                                          \n",
       "       'Positive' Class : 1               \n",
       "                                          "
      ]
     },
     "metadata": {},
     "output_type": "display_data"
    }
   ],
   "source": [
    "game_time_bin$randomforest"
   ]
  },
  {
   "cell_type": "code",
   "execution_count": 58,
   "metadata": {},
   "outputs": [
    {
     "data": {
      "text/html": [
       "<table>\n",
       "<thead><tr><th scope=col>Variable</th><th scope=col>Overall</th></tr></thead>\n",
       "<tbody>\n",
       "\t<tr><td>wk_num      </td><td>3955.587    </td></tr>\n",
       "\t<tr><td>time_sum    </td><td>3567.078    </td></tr>\n",
       "\t<tr><td>join_num    </td><td>2674.726    </td></tr>\n",
       "\t<tr><td>acc_num     </td><td>2435.071    </td></tr>\n",
       "\t<tr><td>payment_mean</td><td>2224.681    </td></tr>\n",
       "</tbody>\n",
       "</table>\n"
      ],
      "text/latex": [
       "\\begin{tabular}{r|ll}\n",
       " Variable & Overall\\\\\n",
       "\\hline\n",
       "\t wk\\_num       & 3955.587      \\\\\n",
       "\t time\\_sum     & 3567.078      \\\\\n",
       "\t join\\_num     & 2674.726      \\\\\n",
       "\t acc\\_num      & 2435.071      \\\\\n",
       "\t payment\\_mean & 2224.681      \\\\\n",
       "\\end{tabular}\n"
      ],
      "text/markdown": [
       "\n",
       "Variable | Overall | \n",
       "|---|---|---|---|---|\n",
       "| wk_num       | 3955.587     | \n",
       "| time_sum     | 3567.078     | \n",
       "| join_num     | 2674.726     | \n",
       "| acc_num      | 2435.071     | \n",
       "| payment_mean | 2224.681     | \n",
       "\n",
       "\n"
      ],
      "text/plain": [
       "  Variable     Overall \n",
       "1 wk_num       3955.587\n",
       "2 time_sum     3567.078\n",
       "3 join_num     2674.726\n",
       "4 acc_num      2435.071\n",
       "5 payment_mean 2224.681"
      ]
     },
     "metadata": {},
     "output_type": "display_data"
    },
    {
     "data": {
      "image/png": "[encoded data removed]",
      "text/plain": [
       "Plot with title \"game_time_bin$rf.model\""
      ]
     },
     "metadata": {},
     "output_type": "display_data"
    }
   ],
   "source": [
    "varImp(game_time_bin$rf.model) %>% mutate(Variable = row.names(.)) %>%\n",
    "  arrange(desc(Overall)) %>% select(Variable, Overall)\n",
    "varImpPlot(game_time_bin$rf.model)"
   ]
  },
  {
   "cell_type": "markdown",
   "metadata": {},
   "source": [
    "#### 6.2.1.2 EXP"
   ]
  },
  {
   "cell_type": "code",
   "execution_count": 59,
   "metadata": {},
   "outputs": [
    {
     "data": {
      "text/plain": [
       "Confusion Matrix and Statistics\n",
       "\n",
       "          Reference\n",
       "Prediction     0     1\n",
       "         0  4203  1052\n",
       "         1  3297 21448\n",
       "                                        \n",
       "               Accuracy : 0.855         \n",
       "                 95% CI : (0.851, 0.859)\n",
       "    No Information Rate : 0.75          \n",
       "    P-Value [Acc > NIR] : < 2.2e-16     \n",
       "                                        \n",
       "                  Kappa : 0.5706        \n",
       " Mcnemar's Test P-Value : < 2.2e-16     \n",
       "                                        \n",
       "            Sensitivity : 0.9532        \n",
       "            Specificity : 0.5604        \n",
       "         Pos Pred Value : 0.8668        \n",
       "         Neg Pred Value : 0.7998        \n",
       "              Precision : 0.8668        \n",
       "                 Recall : 0.9532        \n",
       "                     F1 : 0.9079        \n",
       "             Prevalence : 0.7500        \n",
       "         Detection Rate : 0.7149        \n",
       "   Detection Prevalence : 0.8248        \n",
       "      Balanced Accuracy : 0.7568        \n",
       "                                        \n",
       "       'Positive' Class : 1             \n",
       "                                        "
      ]
     },
     "metadata": {},
     "output_type": "display_data"
    }
   ],
   "source": [
    "game_exp_bin$randomforest"
   ]
  },
  {
   "cell_type": "code",
   "execution_count": 61,
   "metadata": {},
   "outputs": [
    {
     "data": {
      "text/html": [
       "<table>\n",
       "<thead><tr><th scope=col>Variable</th><th scope=col>Overall</th></tr></thead>\n",
       "<tbody>\n",
       "\t<tr><td>item_hongmun_sum </td><td>5834.948         </td></tr>\n",
       "\t<tr><td>npc_hongmun_sum  </td><td>2802.541         </td></tr>\n",
       "\t<tr><td>quest_hongmun_sum</td><td>2513.256         </td></tr>\n",
       "\t<tr><td>join_num         </td><td>2321.764         </td></tr>\n",
       "\t<tr><td>payment_mean     </td><td>1754.117         </td></tr>\n",
       "</tbody>\n",
       "</table>\n"
      ],
      "text/latex": [
       "\\begin{tabular}{r|ll}\n",
       " Variable & Overall\\\\\n",
       "\\hline\n",
       "\t item\\_hongmun\\_sum  & 5834.948             \\\\\n",
       "\t npc\\_hongmun\\_sum   & 2802.541             \\\\\n",
       "\t quest\\_hongmun\\_sum & 2513.256             \\\\\n",
       "\t join\\_num          & 2321.764           \\\\\n",
       "\t payment\\_mean      & 1754.117           \\\\\n",
       "\\end{tabular}\n"
      ],
      "text/markdown": [
       "\n",
       "Variable | Overall | \n",
       "|---|---|---|---|---|\n",
       "| item_hongmun_sum  | 5834.948          | \n",
       "| npc_hongmun_sum   | 2802.541          | \n",
       "| quest_hongmun_sum | 2513.256          | \n",
       "| join_num          | 2321.764          | \n",
       "| payment_mean      | 1754.117          | \n",
       "\n",
       "\n"
      ],
      "text/plain": [
       "  Variable          Overall \n",
       "1 item_hongmun_sum  5834.948\n",
       "2 npc_hongmun_sum   2802.541\n",
       "3 quest_hongmun_sum 2513.256\n",
       "4 join_num          2321.764\n",
       "5 payment_mean      1754.117"
      ]
     },
     "metadata": {},
     "output_type": "display_data"
    },
    {
     "data": {
      "image/png": "[encoded data removed]",
      "text/plain": [
       "Plot with title \"game_exp_bin$rf.model\""
      ]
     },
     "metadata": {},
     "output_type": "display_data"
    }
   ],
   "source": [
    "varImp(game_exp_bin$rf.model) %>% mutate(Variable = row.names(.)) %>%\n",
    "  arrange(desc(Overall)) %>% select(Variable, Overall)\n",
    "varImpPlot(game_exp_bin$rf.model)"
   ]
  },
  {
   "cell_type": "markdown",
   "metadata": {},
   "source": [
    "#### 6.2.1.3 Dungeon"
   ]
  },
  {
   "cell_type": "code",
   "execution_count": 62,
   "metadata": {},
   "outputs": [
    {
     "data": {
      "text/plain": [
       "Confusion Matrix and Statistics\n",
       "\n",
       "          Reference\n",
       "Prediction     0     1\n",
       "         0  3702  1124\n",
       "         1  3798 21376\n",
       "                                          \n",
       "               Accuracy : 0.8359          \n",
       "                 95% CI : (0.8317, 0.8401)\n",
       "    No Information Rate : 0.75            \n",
       "    P-Value [Acc > NIR] : < 2.2e-16       \n",
       "                                          \n",
       "                  Kappa : 0.5035          \n",
       " Mcnemar's Test P-Value : < 2.2e-16       \n",
       "                                          \n",
       "            Sensitivity : 0.9500          \n",
       "            Specificity : 0.4936          \n",
       "         Pos Pred Value : 0.8491          \n",
       "         Neg Pred Value : 0.7671          \n",
       "              Precision : 0.8491          \n",
       "                 Recall : 0.9500          \n",
       "                     F1 : 0.8968          \n",
       "             Prevalence : 0.7500          \n",
       "         Detection Rate : 0.7125          \n",
       "   Detection Prevalence : 0.8391          \n",
       "      Balanced Accuracy : 0.7218          \n",
       "                                          \n",
       "       'Positive' Class : 1               \n",
       "                                          "
      ]
     },
     "metadata": {},
     "output_type": "display_data"
    }
   ],
   "source": [
    "game_dungeon_bin$randomforest"
   ]
  },
  {
   "cell_type": "code",
   "execution_count": 63,
   "metadata": {},
   "outputs": [
    {
     "data": {
      "text/html": [
       "<table>\n",
       "<thead><tr><th scope=col>Variable</th><th scope=col>Overall</th></tr></thead>\n",
       "<tbody>\n",
       "\t<tr><td>clear_raid_sum       </td><td>2558.3490            </td></tr>\n",
       "\t<tr><td>enter_raid_sum       </td><td>2541.8072            </td></tr>\n",
       "\t<tr><td>join_num             </td><td>1588.0610            </td></tr>\n",
       "\t<tr><td>payment_mean         </td><td>1301.7683            </td></tr>\n",
       "\t<tr><td>enter_inzone_sum     </td><td>1215.7128            </td></tr>\n",
       "\t<tr><td>clear_inzone_sum     </td><td>1087.2645            </td></tr>\n",
       "\t<tr><td>clear_skilled_wk_mean</td><td> 812.4774            </td></tr>\n",
       "\t<tr><td>enter_skilled_wk_mean</td><td> 669.1057            </td></tr>\n",
       "</tbody>\n",
       "</table>\n"
      ],
      "text/latex": [
       "\\begin{tabular}{r|ll}\n",
       " Variable & Overall\\\\\n",
       "\\hline\n",
       "\t clear\\_raid\\_sum        & 2558.3490                \\\\\n",
       "\t enter\\_raid\\_sum        & 2541.8072                \\\\\n",
       "\t join\\_num              & 1588.0610              \\\\\n",
       "\t payment\\_mean          & 1301.7683              \\\\\n",
       "\t enter\\_inzone\\_sum      & 1215.7128                \\\\\n",
       "\t clear\\_inzone\\_sum      & 1087.2645                \\\\\n",
       "\t clear\\_skilled\\_wk\\_mean &  812.4774                  \\\\\n",
       "\t enter\\_skilled\\_wk\\_mean &  669.1057                  \\\\\n",
       "\\end{tabular}\n"
      ],
      "text/markdown": [
       "\n",
       "Variable | Overall | \n",
       "|---|---|---|---|---|---|---|---|\n",
       "| clear_raid_sum        | 2558.3490             | \n",
       "| enter_raid_sum        | 2541.8072             | \n",
       "| join_num              | 1588.0610             | \n",
       "| payment_mean          | 1301.7683             | \n",
       "| enter_inzone_sum      | 1215.7128             | \n",
       "| clear_inzone_sum      | 1087.2645             | \n",
       "| clear_skilled_wk_mean |  812.4774             | \n",
       "| enter_skilled_wk_mean |  669.1057             | \n",
       "\n",
       "\n"
      ],
      "text/plain": [
       "  Variable              Overall  \n",
       "1 clear_raid_sum        2558.3490\n",
       "2 enter_raid_sum        2541.8072\n",
       "3 join_num              1588.0610\n",
       "4 payment_mean          1301.7683\n",
       "5 enter_inzone_sum      1215.7128\n",
       "6 clear_inzone_sum      1087.2645\n",
       "7 clear_skilled_wk_mean  812.4774\n",
       "8 enter_skilled_wk_mean  669.1057"
      ]
     },
     "metadata": {},
     "output_type": "display_data"
    },
    {
     "data": {
      "image/png": "[encoded data removed]",
      "text/plain": [
       "Plot with title \"game_dungeon_bin$rf.model\""
      ]
     },
     "metadata": {},
     "output_type": "display_data"
    }
   ],
   "source": [
    "varImp(game_dungeon_bin$rf.model) %>% mutate(Variable = row.names(.)) %>%\n",
    "  arrange(desc(Overall)) %>% select(Variable, Overall)\n",
    "varImpPlot(game_dungeon_bin$rf.model)"
   ]
  },
  {
   "cell_type": "markdown",
   "metadata": {},
   "source": [
    "### 6.2.2 4-Class"
   ]
  },
  {
   "cell_type": "markdown",
   "metadata": {},
   "source": [
    "#### 6.2.2.1 Time"
   ]
  },
  {
   "cell_type": "code",
   "execution_count": 65,
   "metadata": {},
   "outputs": [
    {
     "data": {
      "text/plain": [
       "Confusion Matrix and Statistics\n",
       "\n",
       "          Reference\n",
       "Prediction 2month month retained week\n",
       "  2month     4819  2573     1306   89\n",
       "  month      1154  2906      354  575\n",
       "  retained   1005   783     5330  354\n",
       "  week        522  1238      510 6482\n",
       "\n",
       "Overall Statistics\n",
       "                                          \n",
       "               Accuracy : 0.6512          \n",
       "                 95% CI : (0.6458, 0.6566)\n",
       "    No Information Rate : 0.25            \n",
       "    P-Value [Acc > NIR] : < 2.2e-16       \n",
       "                                          \n",
       "                  Kappa : 0.535           \n",
       " Mcnemar's Test P-Value : < 2.2e-16       \n",
       "\n",
       "Statistics by Class:\n",
       "\n",
       "                     Class: 2month Class: month Class: retained Class: week\n",
       "Sensitivity                 0.6425      0.38747          0.7107      0.8643\n",
       "Specificity                 0.8236      0.90742          0.9048      0.8991\n",
       "Pos Pred Value              0.5484      0.58248          0.7133      0.7406\n",
       "Neg Pred Value              0.8736      0.81632          0.9037      0.9521\n",
       "Precision                   0.5484      0.58248          0.7133      0.7406\n",
       "Recall                      0.6425      0.38747          0.7107      0.8643\n",
       "F1                          0.5918      0.46537          0.7120      0.7977\n",
       "Prevalence                  0.2500      0.25000          0.2500      0.2500\n",
       "Detection Rate              0.1606      0.09687          0.1777      0.2161\n",
       "Detection Prevalence        0.2929      0.16630          0.2491      0.2917\n",
       "Balanced Accuracy           0.7331      0.64744          0.8077      0.8817"
      ]
     },
     "metadata": {},
     "output_type": "display_data"
    }
   ],
   "source": [
    "game_time_mul$randomforest"
   ]
  },
  {
   "cell_type": "code",
   "execution_count": 67,
   "metadata": {},
   "outputs": [
    {
     "data": {
      "text/html": [
       "<table>\n",
       "<thead><tr><th scope=col>Variable</th><th scope=col>Overall</th></tr></thead>\n",
       "<tbody>\n",
       "\t<tr><td>time_sum    </td><td>11236.490   </td></tr>\n",
       "\t<tr><td>acc_num     </td><td> 5354.753   </td></tr>\n",
       "\t<tr><td>wk_num      </td><td> 4028.666   </td></tr>\n",
       "\t<tr><td>join_num    </td><td> 2350.468   </td></tr>\n",
       "\t<tr><td>payment_mean</td><td> 1646.773   </td></tr>\n",
       "</tbody>\n",
       "</table>\n"
      ],
      "text/latex": [
       "\\begin{tabular}{r|ll}\n",
       " Variable & Overall\\\\\n",
       "\\hline\n",
       "\t time\\_sum     & 11236.490     \\\\\n",
       "\t acc\\_num      &  5354.753     \\\\\n",
       "\t wk\\_num       &  4028.666     \\\\\n",
       "\t join\\_num     &  2350.468     \\\\\n",
       "\t payment\\_mean &  1646.773     \\\\\n",
       "\\end{tabular}\n"
      ],
      "text/markdown": [
       "\n",
       "Variable | Overall | \n",
       "|---|---|---|---|---|\n",
       "| time_sum     | 11236.490    | \n",
       "| acc_num      |  5354.753    | \n",
       "| wk_num       |  4028.666    | \n",
       "| join_num     |  2350.468    | \n",
       "| payment_mean |  1646.773    | \n",
       "\n",
       "\n"
      ],
      "text/plain": [
       "  Variable     Overall  \n",
       "1 time_sum     11236.490\n",
       "2 acc_num       5354.753\n",
       "3 wk_num        4028.666\n",
       "4 join_num      2350.468\n",
       "5 payment_mean  1646.773"
      ]
     },
     "metadata": {},
     "output_type": "display_data"
    },
    {
     "data": {
      "image/png": "[encoded data removed]",
      "text/plain": [
       "Plot with title \"game_time_mul$rf.model\""
      ]
     },
     "metadata": {},
     "output_type": "display_data"
    }
   ],
   "source": [
    "varImp(game_time_mul$rf.model) %>% mutate(Variable = row.names(.)) %>%\n",
    "  arrange(desc(Overall)) %>% select(Variable, Overall)\n",
    "varImpPlot(game_time_mul$rf.model)"
   ]
  },
  {
   "cell_type": "markdown",
   "metadata": {},
   "source": [
    "#### 6.2.2.2 EXP"
   ]
  },
  {
   "cell_type": "code",
   "execution_count": 49,
   "metadata": {},
   "outputs": [
    {
     "data": {
      "text/plain": [
       "Confusion Matrix and Statistics\n",
       "\n",
       "          Reference\n",
       "Prediction 2month month retained week\n",
       "  2month     6368  4072     2343 1182\n",
       "  month       151  2071      150  492\n",
       "  retained    741   525     4663  469\n",
       "  week        240   832      344 5357\n",
       "\n",
       "Overall Statistics\n",
       "                                          \n",
       "               Accuracy : 0.6153          \n",
       "                 95% CI : (0.6098, 0.6208)\n",
       "    No Information Rate : 0.25            \n",
       "    P-Value [Acc > NIR] : < 2.2e-16       \n",
       "                                          \n",
       "                  Kappa : 0.4871          \n",
       " Mcnemar's Test P-Value : < 2.2e-16       \n",
       "\n",
       "Statistics by Class:\n",
       "\n",
       "                     Class: 2month Class: month Class: retained Class: week\n",
       "Sensitivity                 0.8491      0.27613          0.6217      0.7143\n",
       "Specificity                 0.6624      0.96476          0.9229      0.9371\n",
       "Pos Pred Value              0.4560      0.72311          0.7288      0.7909\n",
       "Neg Pred Value              0.9294      0.79993          0.8798      0.9077\n",
       "Precision                   0.4560      0.72311          0.7288      0.7909\n",
       "Recall                      0.8491      0.27613          0.6217      0.7143\n",
       "F1                          0.5933      0.39965          0.6710      0.7506\n",
       "Prevalence                  0.2500      0.25000          0.2500      0.2500\n",
       "Detection Rate              0.2123      0.06903          0.1554      0.1786\n",
       "Detection Prevalence        0.4655      0.09547          0.2133      0.2258\n",
       "Balanced Accuracy           0.7557      0.62044          0.7723      0.8257"
      ]
     },
     "metadata": {},
     "output_type": "display_data"
    }
   ],
   "source": [
    "game_exp_mul$randomforest"
   ]
  },
  {
   "cell_type": "code",
   "execution_count": 68,
   "metadata": {},
   "outputs": [
    {
     "data": {
      "text/html": [
       "<table>\n",
       "<thead><tr><th scope=col>Variable</th><th scope=col>Overall</th></tr></thead>\n",
       "<tbody>\n",
       "\t<tr><td>item_hongmun_sum </td><td>7387.763         </td></tr>\n",
       "\t<tr><td>npc_hongmun_sum  </td><td>6873.367         </td></tr>\n",
       "\t<tr><td>quest_hongmun_sum</td><td>6794.954         </td></tr>\n",
       "\t<tr><td>join_num         </td><td>1889.334         </td></tr>\n",
       "\t<tr><td>payment_mean     </td><td>1462.762         </td></tr>\n",
       "</tbody>\n",
       "</table>\n"
      ],
      "text/latex": [
       "\\begin{tabular}{r|ll}\n",
       " Variable & Overall\\\\\n",
       "\\hline\n",
       "\t item\\_hongmun\\_sum  & 7387.763             \\\\\n",
       "\t npc\\_hongmun\\_sum   & 6873.367             \\\\\n",
       "\t quest\\_hongmun\\_sum & 6794.954             \\\\\n",
       "\t join\\_num          & 1889.334           \\\\\n",
       "\t payment\\_mean      & 1462.762           \\\\\n",
       "\\end{tabular}\n"
      ],
      "text/markdown": [
       "\n",
       "Variable | Overall | \n",
       "|---|---|---|---|---|\n",
       "| item_hongmun_sum  | 7387.763          | \n",
       "| npc_hongmun_sum   | 6873.367          | \n",
       "| quest_hongmun_sum | 6794.954          | \n",
       "| join_num          | 1889.334          | \n",
       "| payment_mean      | 1462.762          | \n",
       "\n",
       "\n"
      ],
      "text/plain": [
       "  Variable          Overall \n",
       "1 item_hongmun_sum  7387.763\n",
       "2 npc_hongmun_sum   6873.367\n",
       "3 quest_hongmun_sum 6794.954\n",
       "4 join_num          1889.334\n",
       "5 payment_mean      1462.762"
      ]
     },
     "metadata": {},
     "output_type": "display_data"
    },
    {
     "data": {
      "image/png": "[encoded data removed]",
      "text/plain": [
       "Plot with title \"game_exp_mul$rf.model\""
      ]
     },
     "metadata": {},
     "output_type": "display_data"
    }
   ],
   "source": [
    "varImp(game_exp_mul$rf.model) %>% mutate(Variable = row.names(.)) %>%\n",
    "  arrange(desc(Overall)) %>% select(Variable, Overall)\n",
    "varImpPlot(game_exp_mul$rf.model)"
   ]
  },
  {
   "cell_type": "markdown",
   "metadata": {},
   "source": [
    "#### 6.2.2.3 Dungeon"
   ]
  },
  {
   "cell_type": "code",
   "execution_count": 46,
   "metadata": {
    "scrolled": false
   },
   "outputs": [
    {
     "data": {
      "text/plain": [
       "Confusion Matrix and Statistics\n",
       "\n",
       "          Reference\n",
       "Prediction 2month month retained week\n",
       "  2month     6081  4050     2350 1182\n",
       "  month         1    11        2    4\n",
       "  retained    679   611     4204  492\n",
       "  week        739  2828      944 5822\n",
       "\n",
       "Overall Statistics\n",
       "                                          \n",
       "               Accuracy : 0.5373          \n",
       "                 95% CI : (0.5316, 0.5429)\n",
       "    No Information Rate : 0.25            \n",
       "    P-Value [Acc > NIR] : < 2.2e-16       \n",
       "                                          \n",
       "                  Kappa : 0.383           \n",
       " Mcnemar's Test P-Value : < 2.2e-16       \n",
       "\n",
       "Statistics by Class:\n",
       "\n",
       "                     Class: 2month Class: month Class: retained Class: week\n",
       "Sensitivity                 0.8108    0.0014667          0.5605      0.7763\n",
       "Specificity                 0.6630    0.9996889          0.9208      0.7995\n",
       "Pos Pred Value              0.4451    0.6111111          0.7023      0.5634\n",
       "Neg Pred Value              0.9131    0.7502168          0.8627      0.9147\n",
       "Precision                   0.4451    0.6111111          0.7023      0.5634\n",
       "Recall                      0.8108    0.0014667          0.5605      0.7763\n",
       "F1                          0.5747    0.0029263          0.6235      0.6529\n",
       "Prevalence                  0.2500    0.2500000          0.2500      0.2500\n",
       "Detection Rate              0.2027    0.0003667          0.1401      0.1941\n",
       "Detection Prevalence        0.4554    0.0006000          0.1995      0.3444\n",
       "Balanced Accuracy           0.7369    0.5005778          0.7407      0.7879"
      ]
     },
     "metadata": {},
     "output_type": "display_data"
    }
   ],
   "source": [
    "game_dungeon_mul$randomforest"
   ]
  },
  {
   "cell_type": "code",
   "execution_count": 69,
   "metadata": {},
   "outputs": [
    {
     "data": {
      "text/html": [
       "<table>\n",
       "<thead><tr><th scope=col>Variable</th><th scope=col>Overall</th></tr></thead>\n",
       "<tbody>\n",
       "\t<tr><td>clear_inzone_sum     </td><td>3391.2253            </td></tr>\n",
       "\t<tr><td>enter_inzone_sum     </td><td>3324.0488            </td></tr>\n",
       "\t<tr><td>clear_raid_sum       </td><td>2516.7584            </td></tr>\n",
       "\t<tr><td>enter_raid_sum       </td><td>2194.7191            </td></tr>\n",
       "\t<tr><td>join_num             </td><td>1362.7948            </td></tr>\n",
       "\t<tr><td>payment_mean         </td><td>1120.2182            </td></tr>\n",
       "\t<tr><td>clear_skilled_wk_mean</td><td> 497.4209            </td></tr>\n",
       "\t<tr><td>enter_skilled_wk_mean</td><td> 406.3567            </td></tr>\n",
       "</tbody>\n",
       "</table>\n"
      ],
      "text/latex": [
       "\\begin{tabular}{r|ll}\n",
       " Variable & Overall\\\\\n",
       "\\hline\n",
       "\t clear\\_inzone\\_sum      & 3391.2253                \\\\\n",
       "\t enter\\_inzone\\_sum      & 3324.0488                \\\\\n",
       "\t clear\\_raid\\_sum        & 2516.7584                \\\\\n",
       "\t enter\\_raid\\_sum        & 2194.7191                \\\\\n",
       "\t join\\_num              & 1362.7948              \\\\\n",
       "\t payment\\_mean          & 1120.2182              \\\\\n",
       "\t clear\\_skilled\\_wk\\_mean &  497.4209                  \\\\\n",
       "\t enter\\_skilled\\_wk\\_mean &  406.3567                  \\\\\n",
       "\\end{tabular}\n"
      ],
      "text/markdown": [
       "\n",
       "Variable | Overall | \n",
       "|---|---|---|---|---|---|---|---|\n",
       "| clear_inzone_sum      | 3391.2253             | \n",
       "| enter_inzone_sum      | 3324.0488             | \n",
       "| clear_raid_sum        | 2516.7584             | \n",
       "| enter_raid_sum        | 2194.7191             | \n",
       "| join_num              | 1362.7948             | \n",
       "| payment_mean          | 1120.2182             | \n",
       "| clear_skilled_wk_mean |  497.4209             | \n",
       "| enter_skilled_wk_mean |  406.3567             | \n",
       "\n",
       "\n"
      ],
      "text/plain": [
       "  Variable              Overall  \n",
       "1 clear_inzone_sum      3391.2253\n",
       "2 enter_inzone_sum      3324.0488\n",
       "3 clear_raid_sum        2516.7584\n",
       "4 enter_raid_sum        2194.7191\n",
       "5 join_num              1362.7948\n",
       "6 payment_mean          1120.2182\n",
       "7 clear_skilled_wk_mean  497.4209\n",
       "8 enter_skilled_wk_mean  406.3567"
      ]
     },
     "metadata": {},
     "output_type": "display_data"
    },
    {
     "data": {
      "image/png": "[encoded data removed]",
      "text/plain": [
       "Plot with title \"game_dungeon_mul$rf.model\""
      ]
     },
     "metadata": {},
     "output_type": "display_data"
    }
   ],
   "source": [
    "varImp(game_dungeon_mul$rf.model) %>% mutate(Variable = row.names(.)) %>%\n",
    "  arrange(desc(Overall)) %>% select(Variable, Overall)\n",
    "varImpPlot(game_dungeon_mul$rf.model)"
   ]
  }
 ],
 "metadata": {
  "kernelspec": {
   "display_name": "R",
   "language": "R",
   "name": "ir"
  },
  "language_info": {
   "codemirror_mode": "r",
   "file_extension": ".r",
   "mimetype": "text/x-r-source",
   "name": "R",
   "pygments_lexer": "r",
   "version": "3.4.3"
  }
 },
 "nbformat": 4,
 "nbformat_minor": 2
}
